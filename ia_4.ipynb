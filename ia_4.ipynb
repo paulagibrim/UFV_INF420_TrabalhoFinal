{
 "cells": [
  {
   "cell_type": "markdown",
   "source": [
    "#Trabalho de Conclusão de Curso - Departamento de Ciência da Computação\n",
    "\n",
    "**Paula Teresa Mota Gibrim - Matrícula: ES90366**"
   ],
   "metadata": {
    "id": "wAS9nh26mVZa"
   }
  },
  {
   "cell_type": "code",
   "source": [
    "path = 'images/single_rules/rules_random_initial_states'"
   ],
   "metadata": {
    "id": "sy3qrD-VEkZ2",
    "ExecuteTime": {
     "end_time": "2023-07-06T00:51:46.320415900Z",
     "start_time": "2023-07-06T00:51:46.308859900Z"
    }
   },
   "execution_count": 1,
   "outputs": []
  },
  {
   "cell_type": "markdown",
   "metadata": {
    "id": "DSPCom-KmApV"
   },
   "source": [
    "## Convolutional Neural Network (CNN)"
   ]
  },
  {
   "cell_type": "markdown",
   "metadata": {
    "id": "m7KBpffWzlxH"
   },
   "source": [
    "### Import TensorFlow"
   ]
  },
  {
   "cell_type": "code",
   "execution_count": 2,
   "metadata": {
    "id": "iAve6DCL4JH4",
    "ExecuteTime": {
     "end_time": "2023-07-06T00:51:53.242992800Z",
     "start_time": "2023-07-06T00:51:48.019354400Z"
    }
   },
   "outputs": [],
   "source": [
    "import tensorflow as tf\n",
    "import keras\n",
    "from keras import models\n",
    "from keras.layers import Dense, Activation, Dropout, Flatten, BatchNormalization, LeakyReLU\n",
    "from keras.layers.convolutional import Conv2D, MaxPooling2D, AveragePooling2D\n",
    "from tensorflow.keras.optimizers import Adam\n",
    "from keras.models import Sequential\n",
    "from keras.models import model_from_json\n",
    "import matplotlib.pyplot as plt\n",
    "from PIL import Image\n",
    "import numpy as np\n",
    "import os\n",
    "from itertools import combinations\n",
    "from sklearn.model_selection import train_test_split"
   ]
  },
  {
   "cell_type": "markdown",
   "source": [
    "### Load dataset"
   ],
   "metadata": {
    "id": "q5SaWwT6_0QW"
   }
  },
  {
   "cell_type": "code",
   "source": [
    "# Vetores para cada classe\n",
    "classI = [0, 8, 32, 40, 128, 136, 160, 168, 255, 64, 239, 253, 251, 96, 235, 249, 254, 192, 238,252, 250, 224, 234, 248]\n",
    "classII = [1, 2, 3, 4, 5, 6, 7, 9, 10, 11, 12, 13, 14, 15, 19, 23, 24, 25, 26, 27, 28, 29, 33, 34,127, 16, 191, 247, 17, 63, 119, 223, 95, 20, 159, 215, 21, 31, 87, 65, 111, 125, 80, 175,245, 47, 81, 117, 68, 207, 221, 69, 79, 93, 84, 143, 213, 85, 55, 66, 189, 231, 61, 67,103, 82, 167, 181, 39, 53, 83, 70, 157, 199, 71, 123, 48, 187, 243, 35, 49, 59, 115, 36,219, 37, 91, 38, 52, 155, 211, 42, 112, 171, 241, 43, 113, 44, 100, 203, 217, 46, 116, 139,209, 50, 179, 51, 56, 98, 185, 227, 57, 99, 58, 114, 163, 177, 62, 118, 131, 145, 72, 237,73, 109, 74, 88, 173, 229, 76, 205, 77, 78, 92, 141, 197, 94, 133, 104, 233, 108, 201, 130,144, 190, 246, 132, 222, 134, 148, 158, 214, 138, 174, 208, 140, 196, 206, 220, 142, 244,212, 152, 188, 194, 230, 154, 166, 180, 210, 156, 198, 162, 176, 186, 242, 164, 218, 170,240, 172, 202, 216, 228, 178, 184, 226, 200, 236, 204, 232]\n",
    "classIII = [18, 22, 30, 45, 60, 90, 105, 122, 126, 146, 150, 183, 151, 86, 135, 149, 75, 89, 101,102, 153, 195, 165, 161, 129, 182]\n",
    "classIV = [41, 54, 106, 110, 97, 107, 121, 147, 120, 169, 225, 124, 137, 193]\n",
    "\n",
    "def genTrain(imgPath):\n",
    "  print(imgPath)\n",
    "  for i in classI:\n",
    "    img = Image.open(imgPath + \"classI/Rule\" + str(i) + \".png\")\n",
    "    imgArr = np.expand_dims(np.asarray(img)/255., axis=-1)\n",
    "    x.append(imgArr)\n",
    "    y.append(0)\n",
    "  print(\"classI - ok\")\n",
    "\n",
    "  for i in classII:\n",
    "    img = Image.open(imgPath + \"classII/Rule\" + str(i) + \".png\")\n",
    "    imgArr = np.expand_dims(np.asarray(img)/255., axis=-1)\n",
    "    x.append(imgArr)\n",
    "    y.append(1)\n",
    "  print(\"classII - ok\")\n",
    "\n",
    "  for i in classIII:\n",
    "    img = Image.open(imgPath + \"classIII/Rule\" + str(i) + \".png\")\n",
    "    imgArr = np.expand_dims(np.asarray(img)/255., axis=-1)\n",
    "    x.append(imgArr)\n",
    "    y.append(2)\n",
    "  print(\"classIII - ok\")\n",
    "\n",
    "  for i in classIV:\n",
    "    img = Image.open(imgPath + \"classIV/Rule\" + str(i) + \".png\")\n",
    "    imgArr = np.expand_dims(np.asarray(img)/255., axis=-1)\n",
    "    x.append(imgArr)\n",
    "    y.append(3)\n",
    "  print(\"classIV - ok\")"
   ],
   "metadata": {
    "id": "aXp4gAxr_65G",
    "ExecuteTime": {
     "end_time": "2023-07-06T00:51:53.258007300Z",
     "start_time": "2023-07-06T00:51:53.251502Z"
    }
   },
   "execution_count": 3,
   "outputs": []
  },
  {
   "cell_type": "code",
   "source": [
    "comp = 1\n",
    "imgPath = path + str(comp) + \"/\"\n",
    "\n",
    "img = Image.open(imgPath + \"classI/Rule\" + str(136) + \".png\")\n",
    "imgArr = np.expand_dims(np.asarray(img)/255., axis=-1)\n",
    "print(imgArr.shape)\n",
    "plt.imshow(imgArr, cmap='gray')\n",
    "plt.show()"
   ],
   "metadata": {
    "colab": {
     "base_uri": "https://localhost:8080/",
     "height": 329
    },
    "id": "i9uIQvb_FTih",
    "outputId": "38598c11-543f-41ef-acb0-c3bcc3cd8a69",
    "ExecuteTime": {
     "end_time": "2023-07-06T00:51:53.399852300Z",
     "start_time": "2023-07-06T00:51:53.259012100Z"
    }
   },
   "execution_count": 4,
   "outputs": [
    {
     "name": "stdout",
     "output_type": "stream",
     "text": [
      "(75, 150, 1)\n"
     ]
    },
    {
     "data": {
      "text/plain": "<Figure size 640x480 with 1 Axes>",
      "image/png": "[encoded data removed]"
     },
     "metadata": {},
     "output_type": "display_data"
    }
   ]
  },
  {
   "cell_type": "code",
   "source": [
    "x = []\n",
    "y = []\n",
    "\n",
    "for i in range(0,101):\n",
    "    imgPath = path + str(i) + \"/\"\n",
    "    genTrain(imgPath)\n",
    "\n",
    "x = np.asarray(x, dtype=np.float32)\n",
    "y = np.asarray(y, dtype=np.float32)"
   ],
   "metadata": {
    "colab": {
     "base_uri": "https://localhost:8080/"
    },
    "id": "Z8Y0SCwIC43G",
    "outputId": "496c5bec-07b1-4eec-cef6-f7683942d000",
    "ExecuteTime": {
     "end_time": "2023-07-06T00:52:02.707648500Z",
     "start_time": "2023-07-06T00:51:53.401851600Z"
    }
   },
   "execution_count": 5,
   "outputs": [
    {
     "name": "stdout",
     "output_type": "stream",
     "text": [
      "../UFV_WolframRules_Imgs/images/single_rules/rules_random_initial_states0/\n",
      "classI - ok\n",
      "classII - ok\n",
      "classIII - ok\n",
      "classIV - ok\n",
      "../UFV_WolframRules_Imgs/images/single_rules/rules_random_initial_states1/\n",
      "classI - ok\n",
      "classII - ok\n",
      "classIII - ok\n",
      "classIV - ok\n",
      "../UFV_WolframRules_Imgs/images/single_rules/rules_random_initial_states2/\n",
      "classI - ok\n",
      "classII - ok\n",
      "classIII - ok\n",
      "classIV - ok\n",
      "../UFV_WolframRules_Imgs/images/single_rules/rules_random_initial_states3/\n",
      "classI - ok\n",
      "classII - ok\n",
      "classIII - ok\n",
      "classIV - ok\n",
      "../UFV_WolframRules_Imgs/images/single_rules/rules_random_initial_states4/\n",
      "classI - ok\n",
      "classII - ok\n",
      "classIII - ok\n",
      "classIV - ok\n",
      "../UFV_WolframRules_Imgs/images/single_rules/rules_random_initial_states5/\n",
      "classI - ok\n",
      "classII - ok\n",
      "classIII - ok\n",
      "classIV - ok\n",
      "../UFV_WolframRules_Imgs/images/single_rules/rules_random_initial_states6/\n",
      "classI - ok\n",
      "classII - ok\n",
      "classIII - ok\n",
      "classIV - ok\n",
      "../UFV_WolframRules_Imgs/images/single_rules/rules_random_initial_states7/\n",
      "classI - ok\n",
      "classII - ok\n",
      "classIII - ok\n",
      "classIV - ok\n",
      "../UFV_WolframRules_Imgs/images/single_rules/rules_random_initial_states8/\n",
      "classI - ok\n",
      "classII - ok\n",
      "classIII - ok\n",
      "classIV - ok\n",
      "../UFV_WolframRules_Imgs/images/single_rules/rules_random_initial_states9/\n",
      "classI - ok\n",
      "classII - ok\n",
      "classIII - ok\n",
      "classIV - ok\n",
      "../UFV_WolframRules_Imgs/images/single_rules/rules_random_initial_states10/\n",
      "classI - ok\n",
      "classII - ok\n",
      "classIII - ok\n",
      "classIV - ok\n",
      "../UFV_WolframRules_Imgs/images/single_rules/rules_random_initial_states11/\n",
      "classI - ok\n",
      "classII - ok\n",
      "classIII - ok\n",
      "classIV - ok\n",
      "../UFV_WolframRules_Imgs/images/single_rules/rules_random_initial_states12/\n",
      "classI - ok\n",
      "classII - ok\n",
      "classIII - ok\n",
      "classIV - ok\n",
      "../UFV_WolframRules_Imgs/images/single_rules/rules_random_initial_states13/\n",
      "classI - ok\n",
      "classII - ok\n",
      "classIII - ok\n",
      "classIV - ok\n",
      "../UFV_WolframRules_Imgs/images/single_rules/rules_random_initial_states14/\n",
      "classI - ok\n",
      "classII - ok\n",
      "classIII - ok\n",
      "classIV - ok\n",
      "../UFV_WolframRules_Imgs/images/single_rules/rules_random_initial_states15/\n",
      "classI - ok\n",
      "classII - ok\n",
      "classIII - ok\n",
      "classIV - ok\n",
      "../UFV_WolframRules_Imgs/images/single_rules/rules_random_initial_states16/\n",
      "classI - ok\n",
      "classII - ok\n",
      "classIII - ok\n",
      "classIV - ok\n",
      "../UFV_WolframRules_Imgs/images/single_rules/rules_random_initial_states17/\n",
      "classI - ok\n",
      "classII - ok\n",
      "classIII - ok\n",
      "classIV - ok\n",
      "../UFV_WolframRules_Imgs/images/single_rules/rules_random_initial_states18/\n",
      "classI - ok\n",
      "classII - ok\n",
      "classIII - ok\n",
      "classIV - ok\n",
      "../UFV_WolframRules_Imgs/images/single_rules/rules_random_initial_states19/\n",
      "classI - ok\n",
      "classII - ok\n",
      "classIII - ok\n",
      "classIV - ok\n",
      "../UFV_WolframRules_Imgs/images/single_rules/rules_random_initial_states20/\n",
      "classI - ok\n",
      "classII - ok\n",
      "classIII - ok\n",
      "classIV - ok\n",
      "../UFV_WolframRules_Imgs/images/single_rules/rules_random_initial_states21/\n",
      "classI - ok\n",
      "classII - ok\n",
      "classIII - ok\n",
      "classIV - ok\n",
      "../UFV_WolframRules_Imgs/images/single_rules/rules_random_initial_states22/\n",
      "classI - ok\n",
      "classII - ok\n",
      "classIII - ok\n",
      "classIV - ok\n",
      "../UFV_WolframRules_Imgs/images/single_rules/rules_random_initial_states23/\n",
      "classI - ok\n",
      "classII - ok\n",
      "classIII - ok\n",
      "classIV - ok\n",
      "../UFV_WolframRules_Imgs/images/single_rules/rules_random_initial_states24/\n",
      "classI - ok\n",
      "classII - ok\n",
      "classIII - ok\n",
      "classIV - ok\n",
      "../UFV_WolframRules_Imgs/images/single_rules/rules_random_initial_states25/\n",
      "classI - ok\n",
      "classII - ok\n",
      "classIII - ok\n",
      "classIV - ok\n",
      "../UFV_WolframRules_Imgs/images/single_rules/rules_random_initial_states26/\n",
      "classI - ok\n",
      "classII - ok\n",
      "classIII - ok\n",
      "classIV - ok\n",
      "../UFV_WolframRules_Imgs/images/single_rules/rules_random_initial_states27/\n",
      "classI - ok\n",
      "classII - ok\n",
      "classIII - ok\n",
      "classIV - ok\n",
      "../UFV_WolframRules_Imgs/images/single_rules/rules_random_initial_states28/\n",
      "classI - ok\n",
      "classII - ok\n",
      "classIII - ok\n",
      "classIV - ok\n",
      "../UFV_WolframRules_Imgs/images/single_rules/rules_random_initial_states29/\n",
      "classI - ok\n",
      "classII - ok\n",
      "classIII - ok\n",
      "classIV - ok\n",
      "../UFV_WolframRules_Imgs/images/single_rules/rules_random_initial_states30/\n",
      "classI - ok\n",
      "classII - ok\n",
      "classIII - ok\n",
      "classIV - ok\n",
      "../UFV_WolframRules_Imgs/images/single_rules/rules_random_initial_states31/\n",
      "classI - ok\n",
      "classII - ok\n",
      "classIII - ok\n",
      "classIV - ok\n",
      "../UFV_WolframRules_Imgs/images/single_rules/rules_random_initial_states32/\n",
      "classI - ok\n",
      "classII - ok\n",
      "classIII - ok\n",
      "classIV - ok\n",
      "../UFV_WolframRules_Imgs/images/single_rules/rules_random_initial_states33/\n",
      "classI - ok\n",
      "classII - ok\n",
      "classIII - ok\n",
      "classIV - ok\n",
      "../UFV_WolframRules_Imgs/images/single_rules/rules_random_initial_states34/\n",
      "classI - ok\n",
      "classII - ok\n",
      "classIII - ok\n",
      "classIV - ok\n",
      "../UFV_WolframRules_Imgs/images/single_rules/rules_random_initial_states35/\n",
      "classI - ok\n",
      "classII - ok\n",
      "classIII - ok\n",
      "classIV - ok\n",
      "../UFV_WolframRules_Imgs/images/single_rules/rules_random_initial_states36/\n",
      "classI - ok\n",
      "classII - ok\n",
      "classIII - ok\n",
      "classIV - ok\n",
      "../UFV_WolframRules_Imgs/images/single_rules/rules_random_initial_states37/\n",
      "classI - ok\n",
      "classII - ok\n",
      "classIII - ok\n",
      "classIV - ok\n",
      "../UFV_WolframRules_Imgs/images/single_rules/rules_random_initial_states38/\n",
      "classI - ok\n",
      "classII - ok\n",
      "classIII - ok\n",
      "classIV - ok\n",
      "../UFV_WolframRules_Imgs/images/single_rules/rules_random_initial_states39/\n",
      "classI - ok\n",
      "classII - ok\n",
      "classIII - ok\n",
      "classIV - ok\n",
      "../UFV_WolframRules_Imgs/images/single_rules/rules_random_initial_states40/\n",
      "classI - ok\n",
      "classII - ok\n",
      "classIII - ok\n",
      "classIV - ok\n",
      "../UFV_WolframRules_Imgs/images/single_rules/rules_random_initial_states41/\n",
      "classI - ok\n",
      "classII - ok\n",
      "classIII - ok\n",
      "classIV - ok\n",
      "../UFV_WolframRules_Imgs/images/single_rules/rules_random_initial_states42/\n",
      "classI - ok\n",
      "classII - ok\n",
      "classIII - ok\n",
      "classIV - ok\n",
      "../UFV_WolframRules_Imgs/images/single_rules/rules_random_initial_states43/\n",
      "classI - ok\n",
      "classII - ok\n",
      "classIII - ok\n",
      "classIV - ok\n",
      "../UFV_WolframRules_Imgs/images/single_rules/rules_random_initial_states44/\n",
      "classI - ok\n",
      "classII - ok\n",
      "classIII - ok\n",
      "classIV - ok\n",
      "../UFV_WolframRules_Imgs/images/single_rules/rules_random_initial_states45/\n",
      "classI - ok\n",
      "classII - ok\n",
      "classIII - ok\n",
      "classIV - ok\n",
      "../UFV_WolframRules_Imgs/images/single_rules/rules_random_initial_states46/\n",
      "classI - ok\n",
      "classII - ok\n",
      "classIII - ok\n",
      "classIV - ok\n",
      "../UFV_WolframRules_Imgs/images/single_rules/rules_random_initial_states47/\n",
      "classI - ok\n",
      "classII - ok\n",
      "classIII - ok\n",
      "classIV - ok\n",
      "../UFV_WolframRules_Imgs/images/single_rules/rules_random_initial_states48/\n",
      "classI - ok\n",
      "classII - ok\n",
      "classIII - ok\n",
      "classIV - ok\n",
      "../UFV_WolframRules_Imgs/images/single_rules/rules_random_initial_states49/\n",
      "classI - ok\n",
      "classII - ok\n",
      "classIII - ok\n",
      "classIV - ok\n",
      "../UFV_WolframRules_Imgs/images/single_rules/rules_random_initial_states50/\n",
      "classI - ok\n",
      "classII - ok\n",
      "classIII - ok\n",
      "classIV - ok\n",
      "../UFV_WolframRules_Imgs/images/single_rules/rules_random_initial_states51/\n",
      "classI - ok\n",
      "classII - ok\n",
      "classIII - ok\n",
      "classIV - ok\n",
      "../UFV_WolframRules_Imgs/images/single_rules/rules_random_initial_states52/\n",
      "classI - ok\n",
      "classII - ok\n",
      "classIII - ok\n",
      "classIV - ok\n",
      "../UFV_WolframRules_Imgs/images/single_rules/rules_random_initial_states53/\n",
      "classI - ok\n",
      "classII - ok\n",
      "classIII - ok\n",
      "classIV - ok\n",
      "../UFV_WolframRules_Imgs/images/single_rules/rules_random_initial_states54/\n",
      "classI - ok\n",
      "classII - ok\n",
      "classIII - ok\n",
      "classIV - ok\n",
      "../UFV_WolframRules_Imgs/images/single_rules/rules_random_initial_states55/\n",
      "classI - ok\n",
      "classII - ok\n",
      "classIII - ok\n",
      "classIV - ok\n",
      "../UFV_WolframRules_Imgs/images/single_rules/rules_random_initial_states56/\n",
      "classI - ok\n",
      "classII - ok\n",
      "classIII - ok\n",
      "classIV - ok\n",
      "../UFV_WolframRules_Imgs/images/single_rules/rules_random_initial_states57/\n",
      "classI - ok\n",
      "classII - ok\n",
      "classIII - ok\n",
      "classIV - ok\n",
      "../UFV_WolframRules_Imgs/images/single_rules/rules_random_initial_states58/\n",
      "classI - ok\n",
      "classII - ok\n",
      "classIII - ok\n",
      "classIV - ok\n",
      "../UFV_WolframRules_Imgs/images/single_rules/rules_random_initial_states59/\n",
      "classI - ok\n",
      "classII - ok\n",
      "classIII - ok\n",
      "classIV - ok\n",
      "../UFV_WolframRules_Imgs/images/single_rules/rules_random_initial_states60/\n",
      "classI - ok\n",
      "classII - ok\n",
      "classIII - ok\n",
      "classIV - ok\n",
      "../UFV_WolframRules_Imgs/images/single_rules/rules_random_initial_states61/\n",
      "classI - ok\n",
      "classII - ok\n",
      "classIII - ok\n",
      "classIV - ok\n",
      "../UFV_WolframRules_Imgs/images/single_rules/rules_random_initial_states62/\n",
      "classI - ok\n",
      "classII - ok\n",
      "classIII - ok\n",
      "classIV - ok\n",
      "../UFV_WolframRules_Imgs/images/single_rules/rules_random_initial_states63/\n",
      "classI - ok\n",
      "classII - ok\n",
      "classIII - ok\n",
      "classIV - ok\n",
      "../UFV_WolframRules_Imgs/images/single_rules/rules_random_initial_states64/\n",
      "classI - ok\n",
      "classII - ok\n",
      "classIII - ok\n",
      "classIV - ok\n",
      "../UFV_WolframRules_Imgs/images/single_rules/rules_random_initial_states65/\n",
      "classI - ok\n",
      "classII - ok\n",
      "classIII - ok\n",
      "classIV - ok\n",
      "../UFV_WolframRules_Imgs/images/single_rules/rules_random_initial_states66/\n",
      "classI - ok\n",
      "classII - ok\n",
      "classIII - ok\n",
      "classIV - ok\n",
      "../UFV_WolframRules_Imgs/images/single_rules/rules_random_initial_states67/\n",
      "classI - ok\n",
      "classII - ok\n",
      "classIII - ok\n",
      "classIV - ok\n",
      "../UFV_WolframRules_Imgs/images/single_rules/rules_random_initial_states68/\n",
      "classI - ok\n",
      "classII - ok\n",
      "classIII - ok\n",
      "classIV - ok\n",
      "../UFV_WolframRules_Imgs/images/single_rules/rules_random_initial_states69/\n",
      "classI - ok\n",
      "classII - ok\n",
      "classIII - ok\n",
      "classIV - ok\n",
      "../UFV_WolframRules_Imgs/images/single_rules/rules_random_initial_states70/\n",
      "classI - ok\n",
      "classII - ok\n",
      "classIII - ok\n",
      "classIV - ok\n",
      "../UFV_WolframRules_Imgs/images/single_rules/rules_random_initial_states71/\n",
      "classI - ok\n",
      "classII - ok\n",
      "classIII - ok\n",
      "classIV - ok\n",
      "../UFV_WolframRules_Imgs/images/single_rules/rules_random_initial_states72/\n",
      "classI - ok\n",
      "classII - ok\n",
      "classIII - ok\n",
      "classIV - ok\n",
      "../UFV_WolframRules_Imgs/images/single_rules/rules_random_initial_states73/\n",
      "classI - ok\n",
      "classII - ok\n",
      "classIII - ok\n",
      "classIV - ok\n",
      "../UFV_WolframRules_Imgs/images/single_rules/rules_random_initial_states74/\n",
      "classI - ok\n",
      "classII - ok\n",
      "classIII - ok\n",
      "classIV - ok\n",
      "../UFV_WolframRules_Imgs/images/single_rules/rules_random_initial_states75/\n",
      "classI - ok\n",
      "classII - ok\n",
      "classIII - ok\n",
      "classIV - ok\n",
      "../UFV_WolframRules_Imgs/images/single_rules/rules_random_initial_states76/\n",
      "classI - ok\n",
      "classII - ok\n",
      "classIII - ok\n",
      "classIV - ok\n",
      "../UFV_WolframRules_Imgs/images/single_rules/rules_random_initial_states77/\n",
      "classI - ok\n",
      "classII - ok\n",
      "classIII - ok\n",
      "classIV - ok\n",
      "../UFV_WolframRules_Imgs/images/single_rules/rules_random_initial_states78/\n",
      "classI - ok\n",
      "classII - ok\n",
      "classIII - ok\n",
      "classIV - ok\n",
      "../UFV_WolframRules_Imgs/images/single_rules/rules_random_initial_states79/\n",
      "classI - ok\n",
      "classII - ok\n",
      "classIII - ok\n",
      "classIV - ok\n",
      "../UFV_WolframRules_Imgs/images/single_rules/rules_random_initial_states80/\n",
      "classI - ok\n",
      "classII - ok\n",
      "classIII - ok\n",
      "classIV - ok\n",
      "../UFV_WolframRules_Imgs/images/single_rules/rules_random_initial_states81/\n",
      "classI - ok\n",
      "classII - ok\n",
      "classIII - ok\n",
      "classIV - ok\n",
      "../UFV_WolframRules_Imgs/images/single_rules/rules_random_initial_states82/\n",
      "classI - ok\n",
      "classII - ok\n",
      "classIII - ok\n",
      "classIV - ok\n",
      "../UFV_WolframRules_Imgs/images/single_rules/rules_random_initial_states83/\n",
      "classI - ok\n",
      "classII - ok\n",
      "classIII - ok\n",
      "classIV - ok\n",
      "../UFV_WolframRules_Imgs/images/single_rules/rules_random_initial_states84/\n",
      "classI - ok\n",
      "classII - ok\n",
      "classIII - ok\n",
      "classIV - ok\n",
      "../UFV_WolframRules_Imgs/images/single_rules/rules_random_initial_states85/\n",
      "classI - ok\n",
      "classII - ok\n",
      "classIII - ok\n",
      "classIV - ok\n",
      "../UFV_WolframRules_Imgs/images/single_rules/rules_random_initial_states86/\n",
      "classI - ok\n",
      "classII - ok\n",
      "classIII - ok\n",
      "classIV - ok\n",
      "../UFV_WolframRules_Imgs/images/single_rules/rules_random_initial_states87/\n",
      "classI - ok\n",
      "classII - ok\n",
      "classIII - ok\n",
      "classIV - ok\n",
      "../UFV_WolframRules_Imgs/images/single_rules/rules_random_initial_states88/\n",
      "classI - ok\n",
      "classII - ok\n",
      "classIII - ok\n",
      "classIV - ok\n",
      "../UFV_WolframRules_Imgs/images/single_rules/rules_random_initial_states89/\n",
      "classI - ok\n",
      "classII - ok\n",
      "classIII - ok\n",
      "classIV - ok\n",
      "../UFV_WolframRules_Imgs/images/single_rules/rules_random_initial_states90/\n",
      "classI - ok\n",
      "classII - ok\n",
      "classIII - ok\n",
      "classIV - ok\n",
      "../UFV_WolframRules_Imgs/images/single_rules/rules_random_initial_states91/\n",
      "classI - ok\n",
      "classII - ok\n",
      "classIII - ok\n",
      "classIV - ok\n",
      "../UFV_WolframRules_Imgs/images/single_rules/rules_random_initial_states92/\n",
      "classI - ok\n",
      "classII - ok\n",
      "classIII - ok\n",
      "classIV - ok\n",
      "../UFV_WolframRules_Imgs/images/single_rules/rules_random_initial_states93/\n",
      "classI - ok\n",
      "classII - ok\n",
      "classIII - ok\n",
      "classIV - ok\n",
      "../UFV_WolframRules_Imgs/images/single_rules/rules_random_initial_states94/\n",
      "classI - ok\n",
      "classII - ok\n",
      "classIII - ok\n",
      "classIV - ok\n",
      "../UFV_WolframRules_Imgs/images/single_rules/rules_random_initial_states95/\n",
      "classI - ok\n",
      "classII - ok\n",
      "classIII - ok\n",
      "classIV - ok\n",
      "../UFV_WolframRules_Imgs/images/single_rules/rules_random_initial_states96/\n",
      "classI - ok\n",
      "classII - ok\n",
      "classIII - ok\n",
      "classIV - ok\n",
      "../UFV_WolframRules_Imgs/images/single_rules/rules_random_initial_states97/\n",
      "classI - ok\n",
      "classII - ok\n",
      "classIII - ok\n",
      "classIV - ok\n",
      "../UFV_WolframRules_Imgs/images/single_rules/rules_random_initial_states98/\n",
      "classI - ok\n",
      "classII - ok\n",
      "classIII - ok\n",
      "classIV - ok\n",
      "../UFV_WolframRules_Imgs/images/single_rules/rules_random_initial_states99/\n",
      "classI - ok\n",
      "classII - ok\n",
      "classIII - ok\n",
      "classIV - ok\n",
      "../UFV_WolframRules_Imgs/images/single_rules/rules_random_initial_states100/\n",
      "classI - ok\n",
      "classII - ok\n",
      "classIII - ok\n",
      "classIV - ok\n"
     ]
    }
   ]
  },
  {
   "cell_type": "code",
   "source": [
    "print(y[510])\n",
    "plt.imshow(x[510], cmap='gray')\n",
    "plt.show()"
   ],
   "metadata": {
    "colab": {
     "base_uri": "https://localhost:8080/",
     "height": 329
    },
    "id": "FtdXC4eZP-MP",
    "outputId": "e8b2ec88-9654-4fbf-d9ea-62948a4202fd",
    "ExecuteTime": {
     "end_time": "2023-07-06T00:52:02.850271600Z",
     "start_time": "2023-07-06T00:52:02.704071800Z"
    }
   },
   "execution_count": 6,
   "outputs": [
    {
     "name": "stdout",
     "output_type": "stream",
     "text": [
      "3.0\n"
     ]
    },
    {
     "data": {
      "text/plain": "<Figure size 640x480 with 1 Axes>",
      "image/png": "[encoded data removed]"
     },
     "metadata": {},
     "output_type": "display_data"
    }
   ]
  },
  {
   "cell_type": "code",
   "source": [
    "train_images, test_images, train_labels, test_labels = train_test_split(x, y, test_size=0.25)\n",
    "\n",
    "train_labels = keras.utils.np_utils.to_categorical(train_labels)\n",
    "test_labels = keras.utils.np_utils.to_categorical(test_labels)"
   ],
   "metadata": {
    "id": "euHiNFG2EVzo",
    "ExecuteTime": {
     "end_time": "2023-07-06T00:52:03.251929500Z",
     "start_time": "2023-07-06T00:52:02.849270100Z"
    }
   },
   "execution_count": 7,
   "outputs": []
  },
  {
   "cell_type": "code",
   "source": [
    "print(np.argmax(test_labels[50]),test_labels[50])\n",
    "plt.imshow(test_images[50], cmap='gray')\n",
    "plt.show()"
   ],
   "metadata": {
    "colab": {
     "base_uri": "https://localhost:8080/",
     "height": 329
    },
    "id": "Tr3oB1eZQ3xF",
    "outputId": "8d87dfc9-06fa-4b74-a23b-be28b8c061a8",
    "ExecuteTime": {
     "end_time": "2023-07-06T00:52:03.385986600Z",
     "start_time": "2023-07-06T00:52:03.249930300Z"
    }
   },
   "execution_count": 8,
   "outputs": [
    {
     "name": "stdout",
     "output_type": "stream",
     "text": [
      "1 [0. 1. 0. 0.]\n"
     ]
    },
    {
     "data": {
      "text/plain": "<Figure size 640x480 with 1 Axes>",
      "image/png": "[encoded data removed]"
     },
     "metadata": {},
     "output_type": "display_data"
    }
   ]
  },
  {
   "cell_type": "markdown",
   "metadata": {
    "id": "Oewp-wYg31t9"
   },
   "source": [
    "### Create the CNN"
   ]
  },
  {
   "cell_type": "code",
   "execution_count": 9,
   "metadata": {
    "id": "L9YmGQBQPrdn",
    "colab": {
     "base_uri": "https://localhost:8080/"
    },
    "outputId": "cc5fc383-0cc7-4628-b8e8-6f0a44465e2d",
    "ExecuteTime": {
     "end_time": "2023-07-06T00:52:04.788898900Z",
     "start_time": "2023-07-06T00:52:03.391497800Z"
    }
   },
   "outputs": [
    {
     "name": "stdout",
     "output_type": "stream",
     "text": [
      "Model: \"sequential\"\n",
      "_________________________________________________________________\n",
      " Layer (type)                Output Shape              Param #   \n",
      "=================================================================\n",
      " conv2d (Conv2D)             (None, 75, 150, 32)       320       \n",
      "                                                                 \n",
      " leaky_re_lu (LeakyReLU)     (None, 75, 150, 32)       0         \n",
      "                                                                 \n",
      " batch_normalization (BatchN  (None, 75, 150, 32)      128       \n",
      " ormalization)                                                   \n",
      "                                                                 \n",
      " max_pooling2d (MaxPooling2D  (None, 75, 75, 32)       0         \n",
      " )                                                               \n",
      "                                                                 \n",
      " dropout (Dropout)           (None, 75, 75, 32)        0         \n",
      "                                                                 \n",
      " conv2d_1 (Conv2D)           (None, 75, 75, 64)        18496     \n",
      "                                                                 \n",
      " leaky_re_lu_1 (LeakyReLU)   (None, 75, 75, 64)        0         \n",
      "                                                                 \n",
      " batch_normalization_1 (Batc  (None, 75, 75, 64)       256       \n",
      " hNormalization)                                                 \n",
      "                                                                 \n",
      " average_pooling2d (AverageP  (None, 25, 25, 64)       0         \n",
      " ooling2D)                                                       \n",
      "                                                                 \n",
      " dropout_1 (Dropout)         (None, 25, 25, 64)        0         \n",
      "                                                                 \n",
      " conv2d_2 (Conv2D)           (None, 25, 25, 128)       73856     \n",
      "                                                                 \n",
      " leaky_re_lu_2 (LeakyReLU)   (None, 25, 25, 128)       0         \n",
      "                                                                 \n",
      " batch_normalization_2 (Batc  (None, 25, 25, 128)      512       \n",
      " hNormalization)                                                 \n",
      "                                                                 \n",
      " average_pooling2d_1 (Averag  (None, 5, 5, 128)        0         \n",
      " ePooling2D)                                                     \n",
      "                                                                 \n",
      " dropout_2 (Dropout)         (None, 5, 5, 128)         0         \n",
      "                                                                 \n",
      " conv2d_3 (Conv2D)           (None, 3, 3, 256)         295168    \n",
      "                                                                 \n",
      " leaky_re_lu_3 (LeakyReLU)   (None, 3, 3, 256)         0         \n",
      "                                                                 \n",
      " batch_normalization_3 (Batc  (None, 3, 3, 256)        1024      \n",
      " hNormalization)                                                 \n",
      "                                                                 \n",
      " average_pooling2d_2 (Averag  (None, 1, 1, 256)        0         \n",
      " ePooling2D)                                                     \n",
      "                                                                 \n",
      " dropout_3 (Dropout)         (None, 1, 1, 256)         0         \n",
      "                                                                 \n",
      " flatten (Flatten)           (None, 256)               0         \n",
      "                                                                 \n",
      " dense (Dense)               (None, 512)               131584    \n",
      "                                                                 \n",
      " leaky_re_lu_4 (LeakyReLU)   (None, 512)               0         \n",
      "                                                                 \n",
      " batch_normalization_4 (Batc  (None, 512)              2048      \n",
      " hNormalization)                                                 \n",
      "                                                                 \n",
      " dropout_4 (Dropout)         (None, 512)               0         \n",
      "                                                                 \n",
      " dense_1 (Dense)             (None, 4)                 2052      \n",
      "                                                                 \n",
      " activation (Activation)     (None, 4)                 0         \n",
      "                                                                 \n",
      "=================================================================\n",
      "Total params: 525,444\n",
      "Trainable params: 523,460\n",
      "Non-trainable params: 1,984\n",
      "_________________________________________________________________\n"
     ]
    }
   ],
   "source": [
    "model = models.Sequential()\n",
    "model.add(Conv2D(32, (3, 3),  padding='same', input_shape=(75, 150, 1)))\n",
    "model.add(LeakyReLU(alpha=0.05))\n",
    "model.add(BatchNormalization())\n",
    "model.add(MaxPooling2D((1, 2)))\n",
    "model.add(Dropout(0.2))\n",
    "\n",
    "model.add(Conv2D(64, (3, 3), padding='same' ))\n",
    "model.add(LeakyReLU(alpha=0.05))\n",
    "model.add(BatchNormalization())\n",
    "model.add(AveragePooling2D((3,3)))\n",
    "model.add(Dropout(0.3))\n",
    "\n",
    "model.add(Conv2D(128, (3, 3), padding='same' ))\n",
    "model.add(LeakyReLU(alpha=0.05))\n",
    "model.add(BatchNormalization())\n",
    "model.add(AveragePooling2D((5,5)))\n",
    "model.add(Dropout(0.4))\n",
    "\n",
    "model.add(Conv2D(256, (3, 3) ))\n",
    "model.add(LeakyReLU(alpha=0.05))\n",
    "model.add(BatchNormalization())\n",
    "model.add(AveragePooling2D((3,3)))\n",
    "model.add(Dropout(0.5))\n",
    "\n",
    "model.add(Flatten())\n",
    "model.add(Dense(512))\n",
    "model.add(LeakyReLU(alpha=0.05))\n",
    "model.add(BatchNormalization())\n",
    "model.add(Dropout(0.5))\n",
    "model.add(Dense(4))\n",
    "model.add(Activation('softmax'))\n",
    "\n",
    "model.summary()"
   ]
  },
  {
   "cell_type": "markdown",
   "metadata": {
    "id": "P3odqfHP4M67"
   },
   "source": [
    "### Compile and train the model"
   ]
  },
  {
   "cell_type": "code",
   "execution_count": 10,
   "outputs": [
    {
     "data": {
      "text/plain": "(6464, 75, 150, 1)"
     },
     "execution_count": 10,
     "metadata": {},
     "output_type": "execute_result"
    }
   ],
   "source": [
    "test_images.shape"
   ],
   "metadata": {
    "collapsed": false,
    "ExecuteTime": {
     "end_time": "2023-07-06T00:52:04.788898900Z",
     "start_time": "2023-07-06T00:52:04.774893500Z"
    }
   }
  },
  {
   "cell_type": "code",
   "execution_count": 11,
   "outputs": [
    {
     "data": {
      "text/plain": "(6464, 4)"
     },
     "execution_count": 11,
     "metadata": {},
     "output_type": "execute_result"
    }
   ],
   "source": [
    "test_labels.shape"
   ],
   "metadata": {
    "collapsed": false,
    "ExecuteTime": {
     "end_time": "2023-07-06T00:52:04.799407Z",
     "start_time": "2023-07-06T00:52:04.779396900Z"
    }
   }
  },
  {
   "cell_type": "code",
   "execution_count": 12,
   "metadata": {
    "id": "MdDzI75PUXrG",
    "colab": {
     "base_uri": "https://localhost:8080/"
    },
    "outputId": "cacebe1c-72cf-4770-e934-57b5fddebee1",
    "ExecuteTime": {
     "end_time": "2023-07-06T01:02:10.462047700Z",
     "start_time": "2023-07-06T00:52:04.796899Z"
    }
   },
   "outputs": [
    {
     "name": "stdout",
     "output_type": "stream",
     "text": [
      "Epoch 1/30\n",
      "303/303 [==============================] - 24s 58ms/step - loss: 0.8590 - accuracy: 0.7272 - val_loss: 0.7392 - val_accuracy: 0.7271\n",
      "Epoch 2/30\n",
      "303/303 [==============================] - 17s 57ms/step - loss: 0.2477 - accuracy: 0.9375 - val_loss: 0.1801 - val_accuracy: 0.9615\n",
      "Epoch 3/30\n",
      "303/303 [==============================] - 17s 57ms/step - loss: 0.1136 - accuracy: 0.9756 - val_loss: 0.0741 - val_accuracy: 0.9913\n",
      "Epoch 4/30\n",
      "303/303 [==============================] - 17s 58ms/step - loss: 0.0743 - accuracy: 0.9834 - val_loss: 0.0528 - val_accuracy: 0.9907\n",
      "Epoch 5/30\n",
      "303/303 [==============================] - 18s 58ms/step - loss: 0.0552 - accuracy: 0.9870 - val_loss: 0.0612 - val_accuracy: 0.9954\n",
      "Epoch 6/30\n",
      "303/303 [==============================] - 17s 58ms/step - loss: 0.0575 - accuracy: 0.9880 - val_loss: 0.0350 - val_accuracy: 0.9950\n",
      "Epoch 7/30\n",
      "303/303 [==============================] - 18s 58ms/step - loss: 0.0467 - accuracy: 0.9897 - val_loss: 0.0399 - val_accuracy: 0.9954\n",
      "Epoch 8/30\n",
      "303/303 [==============================] - 17s 57ms/step - loss: 0.0354 - accuracy: 0.9919 - val_loss: 0.0257 - val_accuracy: 0.9957\n",
      "Epoch 9/30\n",
      "303/303 [==============================] - 17s 57ms/step - loss: 0.0370 - accuracy: 0.9913 - val_loss: 0.0255 - val_accuracy: 0.9957\n",
      "Epoch 10/30\n",
      "303/303 [==============================] - 18s 58ms/step - loss: 0.0318 - accuracy: 0.9919 - val_loss: 0.0480 - val_accuracy: 0.9955\n",
      "Epoch 11/30\n",
      "303/303 [==============================] - 18s 58ms/step - loss: 0.0350 - accuracy: 0.9915 - val_loss: 0.0423 - val_accuracy: 0.9955\n",
      "Epoch 12/30\n",
      "303/303 [==============================] - 17s 58ms/step - loss: 0.0449 - accuracy: 0.9891 - val_loss: 0.0364 - val_accuracy: 0.9955\n",
      "Epoch 13/30\n",
      "303/303 [==============================] - 18s 61ms/step - loss: 0.0292 - accuracy: 0.9925 - val_loss: 0.0331 - val_accuracy: 0.9955\n",
      "Epoch 14/30\n",
      "303/303 [==============================] - 23s 75ms/step - loss: 0.0264 - accuracy: 0.9938 - val_loss: 0.0341 - val_accuracy: 0.9952\n",
      "Epoch 15/30\n",
      "303/303 [==============================] - 23s 77ms/step - loss: 0.0307 - accuracy: 0.9926 - val_loss: 0.0314 - val_accuracy: 0.9955\n",
      "Epoch 16/30\n",
      "303/303 [==============================] - 23s 77ms/step - loss: 0.0317 - accuracy: 0.9926 - val_loss: 0.0229 - val_accuracy: 0.9955\n",
      "Epoch 17/30\n",
      "303/303 [==============================] - 23s 76ms/step - loss: 0.0247 - accuracy: 0.9939 - val_loss: 0.0289 - val_accuracy: 0.9955\n",
      "Epoch 18/30\n",
      "303/303 [==============================] - 23s 75ms/step - loss: 0.0286 - accuracy: 0.9931 - val_loss: 0.0255 - val_accuracy: 0.9955\n",
      "Epoch 19/30\n",
      "303/303 [==============================] - 23s 76ms/step - loss: 0.0249 - accuracy: 0.9935 - val_loss: 0.0244 - val_accuracy: 0.9955\n",
      "Epoch 20/30\n",
      "303/303 [==============================] - 23s 76ms/step - loss: 0.0250 - accuracy: 0.9939 - val_loss: 0.0249 - val_accuracy: 0.9955\n",
      "Epoch 21/30\n",
      "303/303 [==============================] - 23s 75ms/step - loss: 0.0236 - accuracy: 0.9942 - val_loss: 0.0208 - val_accuracy: 0.9957\n",
      "Epoch 22/30\n",
      "303/303 [==============================] - 23s 77ms/step - loss: 0.0231 - accuracy: 0.9938 - val_loss: 0.0240 - val_accuracy: 0.9955\n",
      "Epoch 23/30\n",
      "303/303 [==============================] - 23s 76ms/step - loss: 0.0219 - accuracy: 0.9943 - val_loss: 0.0180 - val_accuracy: 0.9957\n",
      "Epoch 24/30\n",
      "303/303 [==============================] - 21s 69ms/step - loss: 0.0218 - accuracy: 0.9948 - val_loss: 0.0168 - val_accuracy: 0.9955\n",
      "Epoch 25/30\n",
      "303/303 [==============================] - 19s 62ms/step - loss: 0.0339 - accuracy: 0.9920 - val_loss: 0.0178 - val_accuracy: 0.9957\n",
      "Epoch 26/30\n",
      "303/303 [==============================] - 20s 66ms/step - loss: 0.0242 - accuracy: 0.9939 - val_loss: 0.0204 - val_accuracy: 0.9957\n",
      "Epoch 27/30\n",
      "303/303 [==============================] - 20s 65ms/step - loss: 0.0212 - accuracy: 0.9948 - val_loss: 0.0243 - val_accuracy: 0.9955\n",
      "Epoch 28/30\n",
      "303/303 [==============================] - 20s 65ms/step - loss: 0.0201 - accuracy: 0.9948 - val_loss: 0.0199 - val_accuracy: 0.9957\n",
      "Epoch 29/30\n",
      "303/303 [==============================] - 19s 64ms/step - loss: 0.0205 - accuracy: 0.9946 - val_loss: 0.0222 - val_accuracy: 0.9955\n",
      "Epoch 30/30\n",
      "303/303 [==============================] - 19s 64ms/step - loss: 0.0263 - accuracy: 0.9940 - val_loss: 0.0194 - val_accuracy: 0.9955\n",
      "\n",
      "Accuracy: 99.55%\n"
     ]
    }
   ],
   "source": [
    "adam = Adam(learning_rate=0.0001)\n",
    "model.compile(optimizer=adam,\n",
    "              loss='categorical_crossentropy',\n",
    "              metrics=['accuracy'])\n",
    "\n",
    "history = model.fit(train_images, train_labels, epochs=30, batch_size=64,\n",
    "                    validation_data=(test_images, test_labels))\n",
    "\n",
    "\n",
    "# Avaliacao final do modelo\n",
    "scores = model.evaluate(test_images,  test_labels, verbose=0)\n",
    "print(\"\\nAccuracy: %.2f%%\" % (scores[1]*100))"
   ]
  },
  {
   "cell_type": "markdown",
   "metadata": {
    "id": "jKgyC5K_4O0d"
   },
   "source": [
    "### Evaluate the model"
   ]
  },
  {
   "cell_type": "code",
   "execution_count": 14,
   "metadata": {
    "id": "gtyDF0MKUcM7",
    "colab": {
     "base_uri": "https://localhost:8080/",
     "height": 927
    },
    "outputId": "ba11c1a1-3543-4dbf-934e-88a68d7b5eb4",
    "ExecuteTime": {
     "end_time": "2023-07-06T02:05:57.653920200Z",
     "start_time": "2023-07-06T02:05:57.285170200Z"
    }
   },
   "outputs": [
    {
     "data": {
      "text/plain": "<Figure size 640x480 with 1 Axes>",
      "image/png": "[encoded data removed]"
     },
     "metadata": {},
     "output_type": "display_data"
    },
    {
     "data": {
      "text/plain": "<Figure size 640x480 with 1 Axes>",
      "image/png": "[encoded data removed]"
     },
     "metadata": {},
     "output_type": "display_data"
    }
   ],
   "source": [
    "plt.plot(history.history['accuracy'])\n",
    "plt.plot(history.history['val_accuracy'])\n",
    "plt.title('model accuracy')\n",
    "plt.ylabel('accuracy')\n",
    "plt.xlabel('epoch')\n",
    "plt.legend(['train', 'test'], loc='upper left')\n",
    "plt.show()\n",
    "\n",
    "\n",
    "plt.plot(history.history['loss'])\n",
    "plt.plot(history.history['val_loss'])\n",
    "plt.title('model loss')\n",
    "plt.ylabel('loss')\n",
    "plt.xlabel('epoch')\n",
    "plt.legend(['train', 'test'], loc='upper left')\n",
    "plt.show()\n"
   ]
  },
  {
   "cell_type": "markdown",
   "source": [
    "### Save the model"
   ],
   "metadata": {
    "collapsed": false
   }
  },
  {
   "cell_type": "code",
   "execution_count": 15,
   "outputs": [
    {
     "name": "stderr",
     "output_type": "stream",
     "text": [
      "WARNING:absl:Found untraced functions such as _jit_compiled_convolution_op, _jit_compiled_convolution_op, _jit_compiled_convolution_op, _jit_compiled_convolution_op while saving (showing 4 of 4). These functions will not be directly callable after loading.\n"
     ]
    },
    {
     "name": "stdout",
     "output_type": "stream",
     "text": [
      "INFO:tensorflow:Assets written to: model2\\assets\n"
     ]
    },
    {
     "name": "stderr",
     "output_type": "stream",
     "text": [
      "INFO:tensorflow:Assets written to: model2\\assets\n"
     ]
    }
   ],
   "source": [
    "model.save(\"model2\", overwrite=True, save_format=\"keras\")"
   ],
   "metadata": {
    "collapsed": false,
    "ExecuteTime": {
     "end_time": "2023-07-06T00:51:17.604722600Z",
     "start_time": "2023-07-06T00:51:14.918044700Z"
    }
   }
  },
  {
   "cell_type": "markdown",
   "source": [
    "### Load and use model"
   ],
   "metadata": {
    "collapsed": false
   }
  },
  {
   "cell_type": "code",
   "execution_count": 11,
   "outputs": [],
   "source": [
    "import tensorflow as tf\n",
    "import matplotlib.pyplot as plt\n",
    "from PIL import Image\n",
    "import numpy as np\n",
    "\n",
    "\n",
    "# Vetores para cada classe\n",
    "classI = [0, 8, 32, 40, 128, 136, 160, 168, 255, 64, 239, 253, 251, 96, 235, 249, 254, 192, 238,252, 250, 224, 234, 248]\n",
    "classII = [1, 2, 3, 4, 5, 6, 7, 9, 10, 11, 12, 13, 14, 15, 19, 23, 24, 25, 26, 27, 28, 29, 33, 34,127, 16, 191, 247, 17, 63, 119, 223, 95, 20, 159, 215, 21, 31, 87, 65, 111, 125, 80, 175,245, 47, 81, 117, 68, 207, 221, 69, 79, 93, 84, 143, 213, 85, 55, 66, 189, 231, 61, 67,103, 82, 167, 181, 39, 53, 83, 70, 157, 199, 71, 123, 48, 187, 243, 35, 49, 59, 115, 36,219, 37, 91, 38, 52, 155, 211, 42, 112, 171, 241, 43, 113, 44, 100, 203, 217, 46, 116, 139,209, 50, 179, 51, 56, 98, 185, 227, 57, 99, 58, 114, 163, 177, 62, 118, 131, 145, 72, 237,73, 109, 74, 88, 173, 229, 76, 205, 77, 78, 92, 141, 197, 94, 133, 104, 233, 108, 201, 130,144, 190, 246, 132, 222, 134, 148, 158, 214, 138, 174, 208, 140, 196, 206, 220, 142, 244,212, 152, 188, 194, 230, 154, 166, 180, 210, 156, 198, 162, 176, 186, 242, 164, 218, 170,240, 172, 202, 216, 228, 178, 184, 226, 200, 236, 204, 232]\n",
    "classIII = [18, 22, 30, 45, 60, 90, 105, 122, 126, 146, 150, 183, 151, 86, 135, 149, 75, 89, 101,102, 153, 195, 165, 161, 129, 182]\n",
    "classIV = [41, 54, 106, 110, 97, 107, 121, 147, 120, 169, 225, 124, 137, 193]\n"
   ],
   "metadata": {
    "collapsed": false,
    "ExecuteTime": {
     "end_time": "2023-07-07T01:46:11.276305300Z",
     "start_time": "2023-07-07T01:46:11.244437400Z"
    }
   }
  },
  {
   "cell_type": "code",
   "execution_count": 12,
   "outputs": [],
   "source": [
    "loaded_model = tf.keras.models.load_model(\"model2\")"
   ],
   "metadata": {
    "collapsed": false,
    "ExecuteTime": {
     "end_time": "2023-07-07T01:46:13.007433900Z",
     "start_time": "2023-07-07T01:46:11.448190900Z"
    }
   }
  },
  {
   "cell_type": "markdown",
   "source": [
    "### Apurando resultados"
   ],
   "metadata": {
    "collapsed": false
   }
  },
  {
   "cell_type": "code",
   "execution_count": null,
   "outputs": [],
   "source": [
    "scores = loaded_model.evaluate(test_images,  test_labels, verbose=0)\n",
    "print(\"\\nAccuracy: %.2f%%\" % (scores[1]*100))"
   ],
   "metadata": {
    "collapsed": false
   }
  },
  {
   "cell_type": "code",
   "execution_count": 15,
   "outputs": [
    {
     "name": "stdout",
     "output_type": "stream",
     "text": [
      "(75, 150, 1)\n",
      "(1, 75, 150, 1)\n"
     ]
    },
    {
     "data": {
      "text/plain": "<Figure size 640x480 with 1 Axes>",
      "image/png": "[encoded data removed]"
     },
     "metadata": {},
     "output_type": "display_data"
    },
    {
     "name": "stdout",
     "output_type": "stream",
     "text": [
      "1/1 [==============================] - 0s 20ms/step\n",
      "Saída da rede:  [[2.7558533e-02 8.5446751e-03 9.6314305e-01 7.5377920e-04]]\n",
      "Classe predita:  3\n"
     ]
    }
   ],
   "source": [
    "\n",
    "path = \"images/composition/\"\n",
    "imgPath = path + \"II+III/\"\n",
    "\n",
    "n1 = 134\n",
    "n2 = 195\n",
    "\n",
    "img = Image.open(imgPath + \"Rule\" + str(n1) +\" + Rule\" + str(n2) +\".png\")\n",
    "imgArr = np.expand_dims(np.asarray(img)/255., axis=-1)\n",
    "print(imgArr.shape)\n",
    "imgArr_pred = imgArr[None,:,:,:]\n",
    "print(imgArr_pred.shape)\n",
    "plt.imshow(imgArr, cmap='gray')\n",
    "plt.show()\n",
    "\n",
    "label_ped = loaded_model.predict(imgArr_pred)\n",
    "\n",
    "print(\"Saída da rede: \",label_ped)\n",
    "print(\"Classe predita: \",np.argmax(label_ped)+1)"
   ],
   "metadata": {
    "collapsed": false,
    "ExecuteTime": {
     "end_time": "2023-07-07T01:46:57.933922Z",
     "start_time": "2023-07-07T01:46:57.680376400Z"
    }
   }
  },
  {
   "cell_type": "code",
   "execution_count": null,
   "outputs": [],
   "source": [],
   "metadata": {
    "collapsed": false
   }
  }
 ],
 "metadata": {
  "accelerator": "GPU",
  "colab": {
   "provenance": [],
   "gpuType": "T4"
  },
  "kernelspec": {
   "name": "python3",
   "language": "python",
   "display_name": "Python 3 (ipykernel)"
  }
 },
 "nbformat": 4,
 "nbformat_minor": 0
}
