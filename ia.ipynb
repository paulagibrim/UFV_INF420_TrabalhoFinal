{
 "cells": [
  {
   "cell_type": "markdown",
   "source": [
    "# Trabalho Final de INF 420 - Departamento de Ciência da Computação\n",
    "\n",
    "Paula Teresa Mota Gibrim - Matrícula: ES90366\n",
    "José Antônio L. Paiva Júnior - Matrícula: 111322"
   ],
   "metadata": {
    "id": "wAS9nh26mVZa"
   }
  },
  {
   "cell_type": "code",
   "source": [
    "path = 'images/single_rules/rules_random_initial_states'"
   ],
   "metadata": {
    "id": "sy3qrD-VEkZ2",
    "ExecuteTime": {
     "end_time": "2023-07-05T22:43:31.326952600Z",
     "start_time": "2023-07-05T22:43:31.312828200Z"
    }
   },
   "execution_count": 1,
   "outputs": []
  },
  {
   "cell_type": "markdown",
   "metadata": {
    "id": "DSPCom-KmApV"
   },
   "source": [
    "## Convolutional Neural Network (CNN)"
   ]
  },
  {
   "cell_type": "markdown",
   "metadata": {
    "id": "m7KBpffWzlxH"
   },
   "source": [
    "### Import TensorFlow"
   ]
  },
  {
   "cell_type": "code",
   "execution_count": 2,
   "metadata": {
    "id": "iAve6DCL4JH4",
    "ExecuteTime": {
     "end_time": "2023-07-05T22:43:54.595092700Z",
     "start_time": "2023-07-05T22:43:46.051909100Z"
    }
   },
   "outputs": [],
   "source": [
    "import tensorflow as tf\n",
    "import keras\n",
    "from keras import models\n",
    "from keras.layers import Dense, Activation, Dropout, Flatten, BatchNormalization, LeakyReLU\n",
    "from keras.layers.convolutional import Conv2D, MaxPooling2D, AveragePooling2D\n",
    "from tensorflow.keras.optimizers import Adam\n",
    "from keras.models import Sequential\n",
    "from keras.models import model_from_json\n",
    "import matplotlib.pyplot as plt\n",
    "from PIL import Image\n",
    "import numpy as np\n",
    "from sklearn.model_selection import train_test_split"
   ]
  },
  {
   "cell_type": "markdown",
   "source": [
    "### Load dataset"
   ],
   "metadata": {
    "id": "q5SaWwT6_0QW"
   }
  },
  {
   "cell_type": "code",
   "source": [
    "# Vetores para cada classe\n",
    "classI = [0, 8, 32, 40, 128, 136, 160, 168, 255, 64, 239, 253, 251, 96, 235, 249, 254, 192, 238,252, 250, 224, 234, 248]\n",
    "classII = [1, 2, 3, 4, 5, 6, 7, 9, 10, 11, 12, 13, 14, 15, 19, 23, 24, 25, 26, 27, 28, 29, 33, 34,127, 16, 191, 247, 17, 63, 119, 223, 95, 20, 159, 215, 21, 31, 87, 65, 111, 125, 80, 175,245, 47, 81, 117, 68, 207, 221, 69, 79, 93, 84, 143, 213, 85, 55, 66, 189, 231, 61, 67,103, 82, 167, 181, 39, 53, 83, 70, 157, 199, 71, 123, 48, 187, 243, 35, 49, 59, 115, 36,219, 37, 91, 38, 52, 155, 211, 42, 112, 171, 241, 43, 113, 44, 100, 203, 217, 46, 116, 139,209, 50, 179, 51, 56, 98, 185, 227, 57, 99, 58, 114, 163, 177, 62, 118, 131, 145, 72, 237,73, 109, 74, 88, 173, 229, 76, 205, 77, 78, 92, 141, 197, 94, 133, 104, 233, 108, 201, 130,144, 190, 246, 132, 222, 134, 148, 158, 214, 138, 174, 208, 140, 196, 206, 220, 142, 244,212, 152, 188, 194, 230, 154, 166, 180, 210, 156, 198, 162, 176, 186, 242, 164, 218, 170,240, 172, 202, 216, 228, 178, 184, 226, 200, 236, 204, 232]\n",
    "classIII = [18, 22, 30, 45, 60, 90, 105, 122, 126, 146, 150, 183, 151, 86, 135, 149, 75, 89, 101,102, 153, 195, 165, 161, 129, 182]\n",
    "classIV = [41, 54, 106, 110, 97, 107, 121, 147, 120, 169, 225, 124, 137, 193]\n",
    "\n",
    "def genTrain(imgPath):\n",
    "  print(imgPath)\n",
    "  for i in classI:\n",
    "    img = Image.open(imgPath + \"classI/Rule\" + str(i) + \".png\")\n",
    "    imgArr = np.expand_dims(np.asarray(img)/255., axis=-1)\n",
    "    x.append(imgArr)\n",
    "    y.append(1)\n",
    "  print(\"classI - ok\")\n",
    "\n",
    "  for i in classII:\n",
    "    img = Image.open(imgPath + \"classII/Rule\" + str(i) + \".png\")\n",
    "    imgArr = np.expand_dims(np.asarray(img)/255., axis=-1)\n",
    "    x.append(imgArr)\n",
    "    y.append(2)\n",
    "  print(\"classII - ok\")\n",
    "\n",
    "  for i in classIII:\n",
    "    img = Image.open(imgPath + \"classIII/Rule\" + str(i) + \".png\")\n",
    "    imgArr = np.expand_dims(np.asarray(img)/255., axis=-1)\n",
    "    x.append(imgArr)\n",
    "    y.append(0)\n",
    "  print(\"classIII - ok\")\n",
    "\n",
    "  for i in classIV:\n",
    "    img = Image.open(imgPath + \"classIV/Rule\" + str(i) + \".png\")\n",
    "    imgArr = np.expand_dims(np.asarray(img)/255., axis=-1)\n",
    "    x.append(imgArr)\n",
    "    y.append(0)\n",
    "  print(\"classIV - ok\")"
   ],
   "metadata": {
    "id": "aXp4gAxr_65G",
    "ExecuteTime": {
     "end_time": "2023-07-05T22:44:34.523703800Z",
     "start_time": "2023-07-05T22:44:34.505663200Z"
    }
   },
   "execution_count": 3,
   "outputs": []
  },
  {
   "cell_type": "code",
   "source": [
    "comp = 1\n",
    "imgPath = path + str(comp) + \"/\"\n",
    "\n",
    "img = Image.open(imgPath + \"classI/Rule\" + str(136) + \".png\")\n",
    "imgArr = np.expand_dims(np.asarray(img)/255., axis=-1)\n",
    "print(imgArr.shape)\n",
    "plt.imshow(imgArr, cmap='gray')\n",
    "plt.show()"
   ],
   "metadata": {
    "colab": {
     "base_uri": "https://localhost:8080/",
     "height": 329
    },
    "id": "i9uIQvb_FTih",
    "outputId": "38598c11-543f-41ef-acb0-c3bcc3cd8a69",
    "ExecuteTime": {
     "end_time": "2023-07-05T22:48:56.046521300Z",
     "start_time": "2023-07-05T22:48:55.883930200Z"
    }
   },
   "execution_count": 4,
   "outputs": [
    {
     "name": "stdout",
     "output_type": "stream",
     "text": [
      "(75, 150, 1)\n"
     ]
    },
    {
     "data": {
      "text/plain": "<Figure size 640x480 with 1 Axes>",
      "image/png": "[encoded data removed]"
     },
     "metadata": {},
     "output_type": "display_data"
    }
   ]
  },
  {
   "cell_type": "code",
   "source": [
    "x = []\n",
    "y = []\n",
    "\n",
    "for i in range(0,101):\n",
    "    imgPath = path + str(i) + \"/\"\n",
    "    genTrain(imgPath)\n",
    "\n",
    "x = np.asarray(x, dtype=np.float32)\n",
    "y = np.asarray(y, dtype=np.float32)"
   ],
   "metadata": {
    "colab": {
     "base_uri": "https://localhost:8080/"
    },
    "id": "Z8Y0SCwIC43G",
    "outputId": "496c5bec-07b1-4eec-cef6-f7683942d000",
    "ExecuteTime": {
     "end_time": "2023-07-05T22:49:16.593373400Z",
     "start_time": "2023-07-05T22:48:57.287708100Z"
    }
   },
   "execution_count": 5,
   "outputs": [
    {
     "name": "stdout",
     "output_type": "stream",
     "text": [
      "../UFV_WolframRules_Imgs/images/single_rules/rules_random_initial_states0/\n",
      "classI - ok\n",
      "classII - ok\n",
      "classIII - ok\n",
      "classIV - ok\n",
      "../UFV_WolframRules_Imgs/images/single_rules/rules_random_initial_states1/\n",
      "classI - ok\n",
      "classII - ok\n",
      "classIII - ok\n",
      "classIV - ok\n",
      "../UFV_WolframRules_Imgs/images/single_rules/rules_random_initial_states2/\n",
      "classI - ok\n",
      "classII - ok\n",
      "classIII - ok\n",
      "classIV - ok\n",
      "../UFV_WolframRules_Imgs/images/single_rules/rules_random_initial_states3/\n",
      "classI - ok\n",
      "classII - ok\n",
      "classIII - ok\n",
      "classIV - ok\n",
      "../UFV_WolframRules_Imgs/images/single_rules/rules_random_initial_states4/\n",
      "classI - ok\n",
      "classII - ok\n",
      "classIII - ok\n",
      "classIV - ok\n",
      "../UFV_WolframRules_Imgs/images/single_rules/rules_random_initial_states5/\n",
      "classI - ok\n",
      "classII - ok\n",
      "classIII - ok\n",
      "classIV - ok\n",
      "../UFV_WolframRules_Imgs/images/single_rules/rules_random_initial_states6/\n",
      "classI - ok\n",
      "classII - ok\n",
      "classIII - ok\n",
      "classIV - ok\n",
      "../UFV_WolframRules_Imgs/images/single_rules/rules_random_initial_states7/\n",
      "classI - ok\n",
      "classII - ok\n",
      "classIII - ok\n",
      "classIV - ok\n",
      "../UFV_WolframRules_Imgs/images/single_rules/rules_random_initial_states8/\n",
      "classI - ok\n",
      "classII - ok\n",
      "classIII - ok\n",
      "classIV - ok\n",
      "../UFV_WolframRules_Imgs/images/single_rules/rules_random_initial_states9/\n",
      "classI - ok\n",
      "classII - ok\n",
      "classIII - ok\n",
      "classIV - ok\n",
      "../UFV_WolframRules_Imgs/images/single_rules/rules_random_initial_states10/\n",
      "classI - ok\n",
      "classII - ok\n",
      "classIII - ok\n",
      "classIV - ok\n",
      "../UFV_WolframRules_Imgs/images/single_rules/rules_random_initial_states11/\n",
      "classI - ok\n",
      "classII - ok\n",
      "classIII - ok\n",
      "classIV - ok\n",
      "../UFV_WolframRules_Imgs/images/single_rules/rules_random_initial_states12/\n",
      "classI - ok\n",
      "classII - ok\n",
      "classIII - ok\n",
      "classIV - ok\n",
      "../UFV_WolframRules_Imgs/images/single_rules/rules_random_initial_states13/\n",
      "classI - ok\n",
      "classII - ok\n",
      "classIII - ok\n",
      "classIV - ok\n",
      "../UFV_WolframRules_Imgs/images/single_rules/rules_random_initial_states14/\n",
      "classI - ok\n",
      "classII - ok\n",
      "classIII - ok\n",
      "classIV - ok\n",
      "../UFV_WolframRules_Imgs/images/single_rules/rules_random_initial_states15/\n",
      "classI - ok\n",
      "classII - ok\n",
      "classIII - ok\n",
      "classIV - ok\n",
      "../UFV_WolframRules_Imgs/images/single_rules/rules_random_initial_states16/\n",
      "classI - ok\n",
      "classII - ok\n",
      "classIII - ok\n",
      "classIV - ok\n",
      "../UFV_WolframRules_Imgs/images/single_rules/rules_random_initial_states17/\n",
      "classI - ok\n",
      "classII - ok\n",
      "classIII - ok\n",
      "classIV - ok\n",
      "../UFV_WolframRules_Imgs/images/single_rules/rules_random_initial_states18/\n",
      "classI - ok\n",
      "classII - ok\n",
      "classIII - ok\n",
      "classIV - ok\n",
      "../UFV_WolframRules_Imgs/images/single_rules/rules_random_initial_states19/\n",
      "classI - ok\n",
      "classII - ok\n",
      "classIII - ok\n",
      "classIV - ok\n",
      "../UFV_WolframRules_Imgs/images/single_rules/rules_random_initial_states20/\n",
      "classI - ok\n",
      "classII - ok\n",
      "classIII - ok\n",
      "classIV - ok\n",
      "../UFV_WolframRules_Imgs/images/single_rules/rules_random_initial_states21/\n",
      "classI - ok\n",
      "classII - ok\n",
      "classIII - ok\n",
      "classIV - ok\n",
      "../UFV_WolframRules_Imgs/images/single_rules/rules_random_initial_states22/\n",
      "classI - ok\n",
      "classII - ok\n",
      "classIII - ok\n",
      "classIV - ok\n",
      "../UFV_WolframRules_Imgs/images/single_rules/rules_random_initial_states23/\n",
      "classI - ok\n",
      "classII - ok\n",
      "classIII - ok\n",
      "classIV - ok\n",
      "../UFV_WolframRules_Imgs/images/single_rules/rules_random_initial_states24/\n",
      "classI - ok\n",
      "classII - ok\n",
      "classIII - ok\n",
      "classIV - ok\n",
      "../UFV_WolframRules_Imgs/images/single_rules/rules_random_initial_states25/\n",
      "classI - ok\n",
      "classII - ok\n",
      "classIII - ok\n",
      "classIV - ok\n",
      "../UFV_WolframRules_Imgs/images/single_rules/rules_random_initial_states26/\n",
      "classI - ok\n",
      "classII - ok\n",
      "classIII - ok\n",
      "classIV - ok\n",
      "../UFV_WolframRules_Imgs/images/single_rules/rules_random_initial_states27/\n",
      "classI - ok\n",
      "classII - ok\n",
      "classIII - ok\n",
      "classIV - ok\n",
      "../UFV_WolframRules_Imgs/images/single_rules/rules_random_initial_states28/\n",
      "classI - ok\n",
      "classII - ok\n",
      "classIII - ok\n",
      "classIV - ok\n",
      "../UFV_WolframRules_Imgs/images/single_rules/rules_random_initial_states29/\n",
      "classI - ok\n",
      "classII - ok\n",
      "classIII - ok\n",
      "classIV - ok\n",
      "../UFV_WolframRules_Imgs/images/single_rules/rules_random_initial_states30/\n",
      "classI - ok\n",
      "classII - ok\n",
      "classIII - ok\n",
      "classIV - ok\n",
      "../UFV_WolframRules_Imgs/images/single_rules/rules_random_initial_states31/\n",
      "classI - ok\n",
      "classII - ok\n",
      "classIII - ok\n",
      "classIV - ok\n",
      "../UFV_WolframRules_Imgs/images/single_rules/rules_random_initial_states32/\n",
      "classI - ok\n",
      "classII - ok\n",
      "classIII - ok\n",
      "classIV - ok\n",
      "../UFV_WolframRules_Imgs/images/single_rules/rules_random_initial_states33/\n",
      "classI - ok\n",
      "classII - ok\n",
      "classIII - ok\n",
      "classIV - ok\n",
      "../UFV_WolframRules_Imgs/images/single_rules/rules_random_initial_states34/\n",
      "classI - ok\n",
      "classII - ok\n",
      "classIII - ok\n",
      "classIV - ok\n",
      "../UFV_WolframRules_Imgs/images/single_rules/rules_random_initial_states35/\n",
      "classI - ok\n",
      "classII - ok\n",
      "classIII - ok\n",
      "classIV - ok\n",
      "../UFV_WolframRules_Imgs/images/single_rules/rules_random_initial_states36/\n",
      "classI - ok\n",
      "classII - ok\n",
      "classIII - ok\n",
      "classIV - ok\n",
      "../UFV_WolframRules_Imgs/images/single_rules/rules_random_initial_states37/\n",
      "classI - ok\n",
      "classII - ok\n",
      "classIII - ok\n",
      "classIV - ok\n",
      "../UFV_WolframRules_Imgs/images/single_rules/rules_random_initial_states38/\n",
      "classI - ok\n",
      "classII - ok\n",
      "classIII - ok\n",
      "classIV - ok\n",
      "../UFV_WolframRules_Imgs/images/single_rules/rules_random_initial_states39/\n",
      "classI - ok\n",
      "classII - ok\n",
      "classIII - ok\n",
      "classIV - ok\n",
      "../UFV_WolframRules_Imgs/images/single_rules/rules_random_initial_states40/\n",
      "classI - ok\n",
      "classII - ok\n",
      "classIII - ok\n",
      "classIV - ok\n",
      "../UFV_WolframRules_Imgs/images/single_rules/rules_random_initial_states41/\n",
      "classI - ok\n",
      "classII - ok\n",
      "classIII - ok\n",
      "classIV - ok\n",
      "../UFV_WolframRules_Imgs/images/single_rules/rules_random_initial_states42/\n",
      "classI - ok\n",
      "classII - ok\n",
      "classIII - ok\n",
      "classIV - ok\n",
      "../UFV_WolframRules_Imgs/images/single_rules/rules_random_initial_states43/\n",
      "classI - ok\n",
      "classII - ok\n",
      "classIII - ok\n",
      "classIV - ok\n",
      "../UFV_WolframRules_Imgs/images/single_rules/rules_random_initial_states44/\n",
      "classI - ok\n",
      "classII - ok\n",
      "classIII - ok\n",
      "classIV - ok\n",
      "../UFV_WolframRules_Imgs/images/single_rules/rules_random_initial_states45/\n",
      "classI - ok\n",
      "classII - ok\n",
      "classIII - ok\n",
      "classIV - ok\n",
      "../UFV_WolframRules_Imgs/images/single_rules/rules_random_initial_states46/\n",
      "classI - ok\n",
      "classII - ok\n",
      "classIII - ok\n",
      "classIV - ok\n",
      "../UFV_WolframRules_Imgs/images/single_rules/rules_random_initial_states47/\n",
      "classI - ok\n",
      "classII - ok\n",
      "classIII - ok\n",
      "classIV - ok\n",
      "../UFV_WolframRules_Imgs/images/single_rules/rules_random_initial_states48/\n",
      "classI - ok\n",
      "classII - ok\n",
      "classIII - ok\n",
      "classIV - ok\n",
      "../UFV_WolframRules_Imgs/images/single_rules/rules_random_initial_states49/\n",
      "classI - ok\n",
      "classII - ok\n",
      "classIII - ok\n",
      "classIV - ok\n",
      "../UFV_WolframRules_Imgs/images/single_rules/rules_random_initial_states50/\n",
      "classI - ok\n",
      "classII - ok\n",
      "classIII - ok\n",
      "classIV - ok\n",
      "../UFV_WolframRules_Imgs/images/single_rules/rules_random_initial_states51/\n",
      "classI - ok\n",
      "classII - ok\n",
      "classIII - ok\n",
      "classIV - ok\n",
      "../UFV_WolframRules_Imgs/images/single_rules/rules_random_initial_states52/\n",
      "classI - ok\n",
      "classII - ok\n",
      "classIII - ok\n",
      "classIV - ok\n",
      "../UFV_WolframRules_Imgs/images/single_rules/rules_random_initial_states53/\n",
      "classI - ok\n",
      "classII - ok\n",
      "classIII - ok\n",
      "classIV - ok\n",
      "../UFV_WolframRules_Imgs/images/single_rules/rules_random_initial_states54/\n",
      "classI - ok\n",
      "classII - ok\n",
      "classIII - ok\n",
      "classIV - ok\n",
      "../UFV_WolframRules_Imgs/images/single_rules/rules_random_initial_states55/\n",
      "classI - ok\n",
      "classII - ok\n",
      "classIII - ok\n",
      "classIV - ok\n",
      "../UFV_WolframRules_Imgs/images/single_rules/rules_random_initial_states56/\n",
      "classI - ok\n",
      "classII - ok\n",
      "classIII - ok\n",
      "classIV - ok\n",
      "../UFV_WolframRules_Imgs/images/single_rules/rules_random_initial_states57/\n",
      "classI - ok\n",
      "classII - ok\n",
      "classIII - ok\n",
      "classIV - ok\n",
      "../UFV_WolframRules_Imgs/images/single_rules/rules_random_initial_states58/\n",
      "classI - ok\n",
      "classII - ok\n",
      "classIII - ok\n",
      "classIV - ok\n",
      "../UFV_WolframRules_Imgs/images/single_rules/rules_random_initial_states59/\n",
      "classI - ok\n",
      "classII - ok\n",
      "classIII - ok\n",
      "classIV - ok\n",
      "../UFV_WolframRules_Imgs/images/single_rules/rules_random_initial_states60/\n",
      "classI - ok\n",
      "classII - ok\n",
      "classIII - ok\n",
      "classIV - ok\n",
      "../UFV_WolframRules_Imgs/images/single_rules/rules_random_initial_states61/\n",
      "classI - ok\n",
      "classII - ok\n",
      "classIII - ok\n",
      "classIV - ok\n",
      "../UFV_WolframRules_Imgs/images/single_rules/rules_random_initial_states62/\n",
      "classI - ok\n",
      "classII - ok\n",
      "classIII - ok\n",
      "classIV - ok\n",
      "../UFV_WolframRules_Imgs/images/single_rules/rules_random_initial_states63/\n",
      "classI - ok\n",
      "classII - ok\n",
      "classIII - ok\n",
      "classIV - ok\n",
      "../UFV_WolframRules_Imgs/images/single_rules/rules_random_initial_states64/\n",
      "classI - ok\n",
      "classII - ok\n",
      "classIII - ok\n",
      "classIV - ok\n",
      "../UFV_WolframRules_Imgs/images/single_rules/rules_random_initial_states65/\n",
      "classI - ok\n",
      "classII - ok\n",
      "classIII - ok\n",
      "classIV - ok\n",
      "../UFV_WolframRules_Imgs/images/single_rules/rules_random_initial_states66/\n",
      "classI - ok\n",
      "classII - ok\n",
      "classIII - ok\n",
      "classIV - ok\n",
      "../UFV_WolframRules_Imgs/images/single_rules/rules_random_initial_states67/\n",
      "classI - ok\n",
      "classII - ok\n",
      "classIII - ok\n",
      "classIV - ok\n",
      "../UFV_WolframRules_Imgs/images/single_rules/rules_random_initial_states68/\n",
      "classI - ok\n",
      "classII - ok\n",
      "classIII - ok\n",
      "classIV - ok\n",
      "../UFV_WolframRules_Imgs/images/single_rules/rules_random_initial_states69/\n",
      "classI - ok\n",
      "classII - ok\n",
      "classIII - ok\n",
      "classIV - ok\n",
      "../UFV_WolframRules_Imgs/images/single_rules/rules_random_initial_states70/\n",
      "classI - ok\n",
      "classII - ok\n",
      "classIII - ok\n",
      "classIV - ok\n",
      "../UFV_WolframRules_Imgs/images/single_rules/rules_random_initial_states71/\n",
      "classI - ok\n",
      "classII - ok\n",
      "classIII - ok\n",
      "classIV - ok\n",
      "../UFV_WolframRules_Imgs/images/single_rules/rules_random_initial_states72/\n",
      "classI - ok\n",
      "classII - ok\n",
      "classIII - ok\n",
      "classIV - ok\n",
      "../UFV_WolframRules_Imgs/images/single_rules/rules_random_initial_states73/\n",
      "classI - ok\n",
      "classII - ok\n",
      "classIII - ok\n",
      "classIV - ok\n",
      "../UFV_WolframRules_Imgs/images/single_rules/rules_random_initial_states74/\n",
      "classI - ok\n",
      "classII - ok\n",
      "classIII - ok\n",
      "classIV - ok\n",
      "../UFV_WolframRules_Imgs/images/single_rules/rules_random_initial_states75/\n",
      "classI - ok\n",
      "classII - ok\n",
      "classIII - ok\n",
      "classIV - ok\n",
      "../UFV_WolframRules_Imgs/images/single_rules/rules_random_initial_states76/\n",
      "classI - ok\n",
      "classII - ok\n",
      "classIII - ok\n",
      "classIV - ok\n",
      "../UFV_WolframRules_Imgs/images/single_rules/rules_random_initial_states77/\n",
      "classI - ok\n",
      "classII - ok\n",
      "classIII - ok\n",
      "classIV - ok\n",
      "../UFV_WolframRules_Imgs/images/single_rules/rules_random_initial_states78/\n",
      "classI - ok\n",
      "classII - ok\n",
      "classIII - ok\n",
      "classIV - ok\n",
      "../UFV_WolframRules_Imgs/images/single_rules/rules_random_initial_states79/\n",
      "classI - ok\n",
      "classII - ok\n",
      "classIII - ok\n",
      "classIV - ok\n",
      "../UFV_WolframRules_Imgs/images/single_rules/rules_random_initial_states80/\n",
      "classI - ok\n",
      "classII - ok\n",
      "classIII - ok\n",
      "classIV - ok\n",
      "../UFV_WolframRules_Imgs/images/single_rules/rules_random_initial_states81/\n",
      "classI - ok\n",
      "classII - ok\n",
      "classIII - ok\n",
      "classIV - ok\n",
      "../UFV_WolframRules_Imgs/images/single_rules/rules_random_initial_states82/\n",
      "classI - ok\n",
      "classII - ok\n",
      "classIII - ok\n",
      "classIV - ok\n",
      "../UFV_WolframRules_Imgs/images/single_rules/rules_random_initial_states83/\n",
      "classI - ok\n",
      "classII - ok\n",
      "classIII - ok\n",
      "classIV - ok\n",
      "../UFV_WolframRules_Imgs/images/single_rules/rules_random_initial_states84/\n",
      "classI - ok\n",
      "classII - ok\n",
      "classIII - ok\n",
      "classIV - ok\n",
      "../UFV_WolframRules_Imgs/images/single_rules/rules_random_initial_states85/\n",
      "classI - ok\n",
      "classII - ok\n",
      "classIII - ok\n",
      "classIV - ok\n",
      "../UFV_WolframRules_Imgs/images/single_rules/rules_random_initial_states86/\n",
      "classI - ok\n",
      "classII - ok\n",
      "classIII - ok\n",
      "classIV - ok\n",
      "../UFV_WolframRules_Imgs/images/single_rules/rules_random_initial_states87/\n",
      "classI - ok\n",
      "classII - ok\n",
      "classIII - ok\n",
      "classIV - ok\n",
      "../UFV_WolframRules_Imgs/images/single_rules/rules_random_initial_states88/\n",
      "classI - ok\n",
      "classII - ok\n",
      "classIII - ok\n",
      "classIV - ok\n",
      "../UFV_WolframRules_Imgs/images/single_rules/rules_random_initial_states89/\n",
      "classI - ok\n",
      "classII - ok\n",
      "classIII - ok\n",
      "classIV - ok\n",
      "../UFV_WolframRules_Imgs/images/single_rules/rules_random_initial_states90/\n",
      "classI - ok\n",
      "classII - ok\n",
      "classIII - ok\n",
      "classIV - ok\n",
      "../UFV_WolframRules_Imgs/images/single_rules/rules_random_initial_states91/\n",
      "classI - ok\n",
      "classII - ok\n",
      "classIII - ok\n",
      "classIV - ok\n",
      "../UFV_WolframRules_Imgs/images/single_rules/rules_random_initial_states92/\n",
      "classI - ok\n",
      "classII - ok\n",
      "classIII - ok\n",
      "classIV - ok\n",
      "../UFV_WolframRules_Imgs/images/single_rules/rules_random_initial_states93/\n",
      "classI - ok\n",
      "classII - ok\n",
      "classIII - ok\n",
      "classIV - ok\n",
      "../UFV_WolframRules_Imgs/images/single_rules/rules_random_initial_states94/\n",
      "classI - ok\n",
      "classII - ok\n",
      "classIII - ok\n",
      "classIV - ok\n",
      "../UFV_WolframRules_Imgs/images/single_rules/rules_random_initial_states95/\n",
      "classI - ok\n",
      "classII - ok\n",
      "classIII - ok\n",
      "classIV - ok\n",
      "../UFV_WolframRules_Imgs/images/single_rules/rules_random_initial_states96/\n",
      "classI - ok\n",
      "classII - ok\n",
      "classIII - ok\n",
      "classIV - ok\n",
      "../UFV_WolframRules_Imgs/images/single_rules/rules_random_initial_states97/\n",
      "classI - ok\n",
      "classII - ok\n",
      "classIII - ok\n",
      "classIV - ok\n",
      "../UFV_WolframRules_Imgs/images/single_rules/rules_random_initial_states98/\n",
      "classI - ok\n",
      "classII - ok\n",
      "classIII - ok\n",
      "classIV - ok\n",
      "../UFV_WolframRules_Imgs/images/single_rules/rules_random_initial_states99/\n",
      "classI - ok\n",
      "classII - ok\n",
      "classIII - ok\n",
      "classIV - ok\n",
      "../UFV_WolframRules_Imgs/images/single_rules/rules_random_initial_states100/\n",
      "classI - ok\n",
      "classII - ok\n",
      "classIII - ok\n",
      "classIV - ok\n"
     ]
    }
   ]
  },
  {
   "cell_type": "code",
   "source": [
    "print(y[510])\n",
    "plt.imshow(x[510], cmap='gray')\n",
    "plt.show()"
   ],
   "metadata": {
    "colab": {
     "base_uri": "https://localhost:8080/",
     "height": 329
    },
    "id": "FtdXC4eZP-MP",
    "outputId": "e8b2ec88-9654-4fbf-d9ea-62948a4202fd",
    "ExecuteTime": {
     "end_time": "2023-07-05T22:49:18.533172400Z",
     "start_time": "2023-07-05T22:49:18.410656Z"
    }
   },
   "execution_count": 6,
   "outputs": [
    {
     "name": "stdout",
     "output_type": "stream",
     "text": [
      "0.0\n"
     ]
    },
    {
     "data": {
      "text/plain": "<Figure size 640x480 with 1 Axes>",
      "image/png": "[encoded data removed]"
     },
     "metadata": {},
     "output_type": "display_data"
    }
   ]
  },
  {
   "cell_type": "code",
   "source": [
    "train_images, test_images, train_labels, test_labels = train_test_split(x, y, test_size=0.25)\n",
    "\n",
    "train_labels = keras.utils.np_utils.to_categorical(train_labels)\n",
    "test_labels = keras.utils.np_utils.to_categorical(test_labels)"
   ],
   "metadata": {
    "id": "euHiNFG2EVzo",
    "ExecuteTime": {
     "end_time": "2023-07-05T22:49:46.327536800Z",
     "start_time": "2023-07-05T22:49:46.013766600Z"
    }
   },
   "execution_count": 7,
   "outputs": []
  },
  {
   "cell_type": "code",
   "source": [
    "print(np.argmax(test_labels[50]),test_labels[50])\n",
    "plt.imshow(test_images[50], cmap='gray')\n",
    "plt.show()"
   ],
   "metadata": {
    "colab": {
     "base_uri": "https://localhost:8080/",
     "height": 329
    },
    "id": "Tr3oB1eZQ3xF",
    "outputId": "8d87dfc9-06fa-4b74-a23b-be28b8c061a8",
    "ExecuteTime": {
     "end_time": "2023-07-05T22:49:48.700482500Z",
     "start_time": "2023-07-05T22:49:48.573558Z"
    }
   },
   "execution_count": 8,
   "outputs": [
    {
     "name": "stdout",
     "output_type": "stream",
     "text": [
      "2 [0. 0. 1.]\n"
     ]
    },
    {
     "data": {
      "text/plain": "<Figure size 640x480 with 1 Axes>",
      "image/png": "[encoded data removed]"
     },
     "metadata": {},
     "output_type": "display_data"
    }
   ]
  },
  {
   "cell_type": "markdown",
   "metadata": {
    "id": "Oewp-wYg31t9"
   },
   "source": [
    "### Create the CNN"
   ]
  },
  {
   "cell_type": "code",
   "execution_count": 9,
   "metadata": {
    "id": "L9YmGQBQPrdn",
    "colab": {
     "base_uri": "https://localhost:8080/"
    },
    "outputId": "cc5fc383-0cc7-4628-b8e8-6f0a44465e2d",
    "ExecuteTime": {
     "end_time": "2023-07-05T22:51:29.588185700Z",
     "start_time": "2023-07-05T22:51:27.125140100Z"
    }
   },
   "outputs": [
    {
     "name": "stdout",
     "output_type": "stream",
     "text": [
      "Model: \"sequential\"\n",
      "_________________________________________________________________\n",
      " Layer (type)                Output Shape              Param #   \n",
      "=================================================================\n",
      " conv2d (Conv2D)             (None, 75, 150, 32)       320       \n",
      "                                                                 \n",
      " leaky_re_lu (LeakyReLU)     (None, 75, 150, 32)       0         \n",
      "                                                                 \n",
      " batch_normalization (BatchN  (None, 75, 150, 32)      128       \n",
      " ormalization)                                                   \n",
      "                                                                 \n",
      " max_pooling2d (MaxPooling2D  (None, 75, 75, 32)       0         \n",
      " )                                                               \n",
      "                                                                 \n",
      " dropout (Dropout)           (None, 75, 75, 32)        0         \n",
      "                                                                 \n",
      " conv2d_1 (Conv2D)           (None, 75, 75, 64)        18496     \n",
      "                                                                 \n",
      " leaky_re_lu_1 (LeakyReLU)   (None, 75, 75, 64)        0         \n",
      "                                                                 \n",
      " batch_normalization_1 (Batc  (None, 75, 75, 64)       256       \n",
      " hNormalization)                                                 \n",
      "                                                                 \n",
      " average_pooling2d (AverageP  (None, 25, 25, 64)       0         \n",
      " ooling2D)                                                       \n",
      "                                                                 \n",
      " dropout_1 (Dropout)         (None, 25, 25, 64)        0         \n",
      "                                                                 \n",
      " conv2d_2 (Conv2D)           (None, 25, 25, 128)       73856     \n",
      "                                                                 \n",
      " leaky_re_lu_2 (LeakyReLU)   (None, 25, 25, 128)       0         \n",
      "                                                                 \n",
      " batch_normalization_2 (Batc  (None, 25, 25, 128)      512       \n",
      " hNormalization)                                                 \n",
      "                                                                 \n",
      " average_pooling2d_1 (Averag  (None, 5, 5, 128)        0         \n",
      " ePooling2D)                                                     \n",
      "                                                                 \n",
      " dropout_2 (Dropout)         (None, 5, 5, 128)         0         \n",
      "                                                                 \n",
      " conv2d_3 (Conv2D)           (None, 3, 3, 256)         295168    \n",
      "                                                                 \n",
      " leaky_re_lu_3 (LeakyReLU)   (None, 3, 3, 256)         0         \n",
      "                                                                 \n",
      " batch_normalization_3 (Batc  (None, 3, 3, 256)        1024      \n",
      " hNormalization)                                                 \n",
      "                                                                 \n",
      " average_pooling2d_2 (Averag  (None, 1, 1, 256)        0         \n",
      " ePooling2D)                                                     \n",
      "                                                                 \n",
      " dropout_3 (Dropout)         (None, 1, 1, 256)         0         \n",
      "                                                                 \n",
      " flatten (Flatten)           (None, 256)               0         \n",
      "                                                                 \n",
      " dense (Dense)               (None, 512)               131584    \n",
      "                                                                 \n",
      " leaky_re_lu_4 (LeakyReLU)   (None, 512)               0         \n",
      "                                                                 \n",
      " batch_normalization_4 (Batc  (None, 512)              2048      \n",
      " hNormalization)                                                 \n",
      "                                                                 \n",
      " dropout_4 (Dropout)         (None, 512)               0         \n",
      "                                                                 \n",
      " dense_1 (Dense)             (None, 3)                 1539      \n",
      "                                                                 \n",
      " activation (Activation)     (None, 3)                 0         \n",
      "                                                                 \n",
      "=================================================================\n",
      "Total params: 524,931\n",
      "Trainable params: 522,947\n",
      "Non-trainable params: 1,984\n",
      "_________________________________________________________________\n"
     ]
    }
   ],
   "source": [
    "model = models.Sequential()\n",
    "model.add(Conv2D(32, (3, 3),  padding='same', input_shape=(75, 150, 1)))\n",
    "model.add(LeakyReLU(alpha=0.05))\n",
    "model.add(BatchNormalization())\n",
    "model.add(MaxPooling2D((1, 2)))\n",
    "model.add(Dropout(0.2))\n",
    "\n",
    "model.add(Conv2D(64, (3, 3), padding='same' ))\n",
    "model.add(LeakyReLU(alpha=0.05))\n",
    "model.add(BatchNormalization())\n",
    "model.add(AveragePooling2D((3,3)))\n",
    "model.add(Dropout(0.3))\n",
    "\n",
    "model.add(Conv2D(128, (3, 3), padding='same' ))\n",
    "model.add(LeakyReLU(alpha=0.05))\n",
    "model.add(BatchNormalization())\n",
    "model.add(AveragePooling2D((5,5)))\n",
    "model.add(Dropout(0.4))\n",
    "\n",
    "model.add(Conv2D(256, (3, 3) ))\n",
    "model.add(LeakyReLU(alpha=0.05))\n",
    "model.add(BatchNormalization())\n",
    "model.add(AveragePooling2D((3,3)))\n",
    "model.add(Dropout(0.5))\n",
    "\n",
    "model.add(Flatten())\n",
    "model.add(Dense(512))\n",
    "model.add(LeakyReLU(alpha=0.05))\n",
    "model.add(BatchNormalization())\n",
    "model.add(Dropout(0.5))\n",
    "model.add(Dense(3))\n",
    "model.add(Activation('softmax'))\n",
    "\n",
    "model.summary()"
   ]
  },
  {
   "cell_type": "markdown",
   "metadata": {
    "id": "P3odqfHP4M67"
   },
   "source": [
    "### Compile and train the model"
   ]
  },
  {
   "cell_type": "code",
   "execution_count": 10,
   "metadata": {
    "id": "MdDzI75PUXrG",
    "colab": {
     "base_uri": "https://localhost:8080/"
    },
    "outputId": "cacebe1c-72cf-4770-e934-57b5fddebee1",
    "ExecuteTime": {
     "end_time": "2023-07-05T23:00:29.352180100Z",
     "start_time": "2023-07-05T22:51:57.560109800Z"
    }
   },
   "outputs": [
    {
     "name": "stdout",
     "output_type": "stream",
     "text": [
      "Epoch 1/30\n",
      "303/303 [==============================] - 23s 55ms/step - loss: 0.6340 - accuracy: 0.7974 - val_loss: 4.2682 - val_accuracy: 0.0942\n",
      "Epoch 2/30\n",
      "303/303 [==============================] - 16s 54ms/step - loss: 0.1635 - accuracy: 0.9609 - val_loss: 3.3184 - val_accuracy: 0.5859\n",
      "Epoch 3/30\n",
      "303/303 [==============================] - 17s 55ms/step - loss: 0.0858 - accuracy: 0.9817 - val_loss: 0.1502 - val_accuracy: 0.9598\n",
      "Epoch 4/30\n",
      "303/303 [==============================] - 17s 55ms/step - loss: 0.0582 - accuracy: 0.9877 - val_loss: 0.0608 - val_accuracy: 0.9886\n",
      "Epoch 5/30\n",
      "303/303 [==============================] - 17s 56ms/step - loss: 0.0534 - accuracy: 0.9882 - val_loss: 0.0533 - val_accuracy: 0.9912\n",
      "Epoch 6/30\n",
      "303/303 [==============================] - 17s 55ms/step - loss: 0.0437 - accuracy: 0.9905 - val_loss: 0.0232 - val_accuracy: 0.9958\n",
      "Epoch 7/30\n",
      "303/303 [==============================] - 17s 55ms/step - loss: 0.0374 - accuracy: 0.9906 - val_loss: 0.0386 - val_accuracy: 0.9960\n",
      "Epoch 8/30\n",
      "303/303 [==============================] - 17s 55ms/step - loss: 0.0364 - accuracy: 0.9913 - val_loss: 0.0531 - val_accuracy: 0.9869\n",
      "Epoch 9/30\n",
      "303/303 [==============================] - 17s 55ms/step - loss: 0.0385 - accuracy: 0.9904 - val_loss: 0.0314 - val_accuracy: 0.9961\n",
      "Epoch 10/30\n",
      "303/303 [==============================] - 17s 55ms/step - loss: 0.0302 - accuracy: 0.9926 - val_loss: 0.0311 - val_accuracy: 0.9960\n",
      "Epoch 11/30\n",
      "303/303 [==============================] - 17s 56ms/step - loss: 0.0291 - accuracy: 0.9927 - val_loss: 0.0240 - val_accuracy: 0.9961\n",
      "Epoch 12/30\n",
      "303/303 [==============================] - 17s 56ms/step - loss: 0.0291 - accuracy: 0.9928 - val_loss: 0.0294 - val_accuracy: 0.9960\n",
      "Epoch 13/30\n",
      "303/303 [==============================] - 17s 55ms/step - loss: 0.0307 - accuracy: 0.9922 - val_loss: 0.0292 - val_accuracy: 0.9952\n",
      "Epoch 14/30\n",
      "303/303 [==============================] - 17s 55ms/step - loss: 0.0282 - accuracy: 0.9933 - val_loss: 0.0291 - val_accuracy: 0.9961\n",
      "Epoch 15/30\n",
      "303/303 [==============================] - 17s 55ms/step - loss: 0.0291 - accuracy: 0.9929 - val_loss: 0.0184 - val_accuracy: 0.9963\n",
      "Epoch 16/30\n",
      "303/303 [==============================] - 17s 56ms/step - loss: 0.0279 - accuracy: 0.9929 - val_loss: 0.0232 - val_accuracy: 0.9954\n",
      "Epoch 17/30\n",
      "303/303 [==============================] - 17s 55ms/step - loss: 0.0253 - accuracy: 0.9930 - val_loss: 0.0229 - val_accuracy: 0.9961\n",
      "Epoch 18/30\n",
      "303/303 [==============================] - 17s 55ms/step - loss: 0.0268 - accuracy: 0.9935 - val_loss: 0.0180 - val_accuracy: 0.9961\n",
      "Epoch 19/30\n",
      "303/303 [==============================] - 17s 55ms/step - loss: 0.0267 - accuracy: 0.9930 - val_loss: 0.0253 - val_accuracy: 0.9958\n",
      "Epoch 20/30\n",
      "303/303 [==============================] - 17s 56ms/step - loss: 0.0241 - accuracy: 0.9941 - val_loss: 0.0232 - val_accuracy: 0.9958\n",
      "Epoch 21/30\n",
      "303/303 [==============================] - 17s 55ms/step - loss: 0.0246 - accuracy: 0.9941 - val_loss: 0.0176 - val_accuracy: 0.9961\n",
      "Epoch 22/30\n",
      "303/303 [==============================] - 17s 56ms/step - loss: 0.0227 - accuracy: 0.9940 - val_loss: 0.0179 - val_accuracy: 0.9961\n",
      "Epoch 23/30\n",
      "303/303 [==============================] - 17s 56ms/step - loss: 0.0219 - accuracy: 0.9945 - val_loss: 0.0141 - val_accuracy: 0.9964\n",
      "Epoch 24/30\n",
      "303/303 [==============================] - 17s 56ms/step - loss: 0.0241 - accuracy: 0.9938 - val_loss: 0.0149 - val_accuracy: 0.9966\n",
      "Epoch 25/30\n",
      "303/303 [==============================] - 17s 56ms/step - loss: 0.0262 - accuracy: 0.9935 - val_loss: 0.0204 - val_accuracy: 0.9961\n",
      "Epoch 26/30\n",
      "303/303 [==============================] - 17s 56ms/step - loss: 0.0235 - accuracy: 0.9943 - val_loss: 0.0147 - val_accuracy: 0.9963\n",
      "Epoch 27/30\n",
      "303/303 [==============================] - 17s 56ms/step - loss: 0.0213 - accuracy: 0.9946 - val_loss: 0.0189 - val_accuracy: 0.9964\n",
      "Epoch 28/30\n",
      "303/303 [==============================] - 17s 56ms/step - loss: 0.0226 - accuracy: 0.9943 - val_loss: 0.0165 - val_accuracy: 0.9966\n",
      "Epoch 29/30\n",
      "303/303 [==============================] - 17s 55ms/step - loss: 0.0214 - accuracy: 0.9945 - val_loss: 0.0138 - val_accuracy: 0.9966\n",
      "Epoch 30/30\n",
      "303/303 [==============================] - 17s 56ms/step - loss: 0.0260 - accuracy: 0.9931 - val_loss: 0.0168 - val_accuracy: 0.9963\n",
      "\n",
      "Accuracy: 99.63%\n"
     ]
    }
   ],
   "source": [
    "adam = Adam(learning_rate=0.0001)\n",
    "model.compile(optimizer=adam,\n",
    "              loss='categorical_crossentropy',\n",
    "              metrics=['accuracy'])\n",
    "\n",
    "history = model.fit(train_images, train_labels, epochs=30, batch_size=64,\n",
    "                    validation_data=(test_images, test_labels))\n",
    "\n",
    "\n",
    "# Avaliacao final do modelo\n",
    "scores = model.evaluate(test_images,  test_labels, verbose=0)\n",
    "print(\"\\nAccuracy: %.2f%%\" % (scores[1]*100))"
   ]
  },
  {
   "cell_type": "markdown",
   "metadata": {
    "id": "jKgyC5K_4O0d"
   },
   "source": [
    "### Evaluate the model"
   ]
  },
  {
   "cell_type": "code",
   "execution_count": 11,
   "metadata": {
    "id": "gtyDF0MKUcM7",
    "colab": {
     "base_uri": "https://localhost:8080/",
     "height": 927
    },
    "outputId": "ba11c1a1-3543-4dbf-934e-88a68d7b5eb4",
    "ExecuteTime": {
     "end_time": "2023-07-05T23:36:09.845755900Z",
     "start_time": "2023-07-05T23:36:09.520477100Z"
    }
   },
   "outputs": [
    {
     "data": {
      "text/plain": "<Figure size 640x480 with 1 Axes>",
      "image/png": "[encoded data removed]"
     },
     "metadata": {},
     "output_type": "display_data"
    },
    {
     "data": {
      "text/plain": "<Figure size 640x480 with 1 Axes>",
      "image/png": "[encoded data removed]"
     },
     "metadata": {},
     "output_type": "display_data"
    }
   ],
   "source": [
    "plt.plot(history.history['accuracy'])\n",
    "plt.plot(history.history['val_accuracy'])\n",
    "plt.title('model accuracy')\n",
    "plt.ylabel('accuracy')\n",
    "plt.xlabel('epoch')\n",
    "plt.legend(['train', 'test'], loc='upper left')\n",
    "plt.show()\n",
    "\n",
    "\n",
    "plt.plot(history.history['loss'])\n",
    "plt.plot(history.history['val_loss'])\n",
    "plt.title('model loss')\n",
    "plt.ylabel('loss')\n",
    "plt.xlabel('epoch')\n",
    "plt.legend(['train', 'test'], loc='upper left')\n",
    "plt.show()\n"
   ]
  },
  {
   "cell_type": "markdown",
   "source": [
    "### Save the model"
   ],
   "metadata": {
    "collapsed": false
   }
  },
  {
   "cell_type": "code",
   "execution_count": 12,
   "outputs": [
    {
     "name": "stderr",
     "output_type": "stream",
     "text": [
      "WARNING:absl:Found untraced functions such as _jit_compiled_convolution_op, _jit_compiled_convolution_op, _jit_compiled_convolution_op, _jit_compiled_convolution_op while saving (showing 4 of 4). These functions will not be directly callable after loading.\n"
     ]
    },
    {
     "name": "stdout",
     "output_type": "stream",
     "text": [
      "INFO:tensorflow:Assets written to: model\\assets\n"
     ]
    },
    {
     "name": "stderr",
     "output_type": "stream",
     "text": [
      "INFO:tensorflow:Assets written to: model\\assets\n"
     ]
    }
   ],
   "source": [
    "model.save(\"model\", overwrite=True, save_format=\"keras\")"
   ],
   "metadata": {
    "collapsed": false,
    "ExecuteTime": {
     "end_time": "2023-07-05T23:37:08.713793100Z",
     "start_time": "2023-07-05T23:37:05.786259900Z"
    }
   }
  },
  {
   "cell_type": "markdown",
   "source": [
    "### Load and use model"
   ],
   "metadata": {
    "collapsed": false
   }
  },
  {
   "cell_type": "code",
   "execution_count": 1,
   "outputs": [],
   "source": [
    "import tensorflow as tf\n",
    "import matplotlib.pyplot as plt\n",
    "from PIL import Image\n",
    "import numpy as np\n",
    "\n",
    "\n",
    "# Vetores para cada classe\n",
    "classI = [0, 8, 32, 40, 128, 136, 160, 168, 255, 64, 239, 253, 251, 96, 235, 249, 254, 192, 238,252, 250, 224, 234, 248]\n",
    "classII = [1, 2, 3, 4, 5, 6, 7, 9, 10, 11, 12, 13, 14, 15, 19, 23, 24, 25, 26, 27, 28, 29, 33, 34,127, 16, 191, 247, 17, 63, 119, 223, 95, 20, 159, 215, 21, 31, 87, 65, 111, 125, 80, 175,245, 47, 81, 117, 68, 207, 221, 69, 79, 93, 84, 143, 213, 85, 55, 66, 189, 231, 61, 67,103, 82, 167, 181, 39, 53, 83, 70, 157, 199, 71, 123, 48, 187, 243, 35, 49, 59, 115, 36,219, 37, 91, 38, 52, 155, 211, 42, 112, 171, 241, 43, 113, 44, 100, 203, 217, 46, 116, 139,209, 50, 179, 51, 56, 98, 185, 227, 57, 99, 58, 114, 163, 177, 62, 118, 131, 145, 72, 237,73, 109, 74, 88, 173, 229, 76, 205, 77, 78, 92, 141, 197, 94, 133, 104, 233, 108, 201, 130,144, 190, 246, 132, 222, 134, 148, 158, 214, 138, 174, 208, 140, 196, 206, 220, 142, 244,212, 152, 188, 194, 230, 154, 166, 180, 210, 156, 198, 162, 176, 186, 242, 164, 218, 170,240, 172, 202, 216, 228, 178, 184, 226, 200, 236, 204, 232]\n",
    "classIII = [18, 22, 30, 45, 60, 90, 105, 122, 126, 146, 150, 183, 151, 86, 135, 149, 75, 89, 101,102, 153, 195, 165, 161, 129, 182]\n",
    "classIV = [41, 54, 106, 110, 97, 107, 121, 147, 120, 169, 225, 124, 137, 193]\n"
   ],
   "metadata": {
    "collapsed": false,
    "ExecuteTime": {
     "end_time": "2023-07-07T01:38:11.587076400Z",
     "start_time": "2023-07-07T01:38:07.661762400Z"
    }
   }
  },
  {
   "cell_type": "code",
   "execution_count": 2,
   "outputs": [],
   "source": [
    "loaded_model = tf.keras.models.load_model(\"model\")"
   ],
   "metadata": {
    "collapsed": false,
    "ExecuteTime": {
     "end_time": "2023-07-07T01:38:19.160519Z",
     "start_time": "2023-07-07T01:38:11.588086600Z"
    }
   }
  },
  {
   "cell_type": "markdown",
   "source": [
    "### Apurando resultados"
   ],
   "metadata": {
    "collapsed": false
   }
  },
  {
   "cell_type": "code",
   "execution_count": null,
   "outputs": [],
   "source": [
    "scores = loaded_model.evaluate(test_images,  test_labels, verbose=0)\n",
    "print(\"\\nAccuracy: %.2f%%\" % (scores[1]*100))"
   ],
   "metadata": {
    "collapsed": false
   }
  },
  {
   "cell_type": "code",
   "execution_count": 22,
   "outputs": [
    {
     "name": "stdout",
     "output_type": "stream",
     "text": [
      "(75, 150, 1)\n",
      "(1, 75, 150, 1)\n"
     ]
    },
    {
     "data": {
      "text/plain": "<Figure size 640x480 with 1 Axes>",
      "image/png": "[encoded data removed]"
     },
     "metadata": {},
     "output_type": "display_data"
    },
    {
     "name": "stdout",
     "output_type": "stream",
     "text": [
      "1/1 [==============================] - 0s 59ms/step\n",
      "Saída da rede:  [[9.999999e-01 1.302270e-07 5.385519e-19]]\n",
      "Classe predita:  0\n"
     ]
    }
   ],
   "source": [
    "n_comp = 1\n",
    "path = \"../images/compositions/composition/\"\n",
    "imgPath = path + \"I+III/\"\n",
    "\n",
    "n1 = 40\n",
    "n2 = 45\n",
    "\n",
    "img = Image.open(imgPath + \"Rule\" + str(n1) +\" + Rule\" + str(n2) +\".png\")\n",
    "imgArr = np.expand_dims(np.asarray(img)/255., axis=-1)\n",
    "print(imgArr.shape)\n",
    "imgArr_pred = imgArr[None,:,:,:]\n",
    "print(imgArr_pred.shape)\n",
    "plt.imshow(imgArr, cmap='gray')\n",
    "plt.show()\n",
    "\n",
    "label_ped = model.predict(imgArr_pred)\n",
    "\n",
    "print(\"Saída da rede: \",label_ped)\n",
    "print(\"Classe predita: \",np.argmax(label_ped)) #0 significa (3 ou 4)"
   ],
   "metadata": {
    "collapsed": false,
    "ExecuteTime": {
     "end_time": "2023-07-06T01:59:24.871904100Z",
     "start_time": "2023-07-06T01:59:24.612538200Z"
    }
   }
  },
  {
   "cell_type": "code",
   "execution_count": null,
   "outputs": [],
   "source": [],
   "metadata": {
    "collapsed": false
   }
  }
 ],
 "metadata": {
  "accelerator": "GPU",
  "colab": {
   "provenance": [],
   "gpuType": "T4"
  },
  "kernelspec": {
   "name": "python3",
   "language": "python",
   "display_name": "Python 3 (ipykernel)"
  }
 },
 "nbformat": 4,
 "nbformat_minor": 0
}
